{
 "cells": [
  {
   "cell_type": "code",
   "execution_count": 7,
   "metadata": {},
   "outputs": [],
   "source": [
    "import pandas as pd\n",
    "import nltk\n",
    "import numpy as np\n",
    "from numpy import random as npr\n",
    "import time\n",
    "import string\n",
    "import sklearn\n",
    "import random\n",
    "# from itertools import chain, imap"
   ]
  },
  {
   "cell_type": "code",
   "execution_count": 1,
   "metadata": {},
   "outputs": [
    {
     "name": "stdout",
     "output_type": "stream",
     "text": [
      "Collecting imbalanced-learnNote: you may need to restart the kernel to use updated packages.\n",
      "\n",
      "  Downloading imbalanced_learn-0.10.1-py3-none-any.whl (226 kB)\n",
      "     -------------------------------------- 226.0/226.0 kB 1.5 MB/s eta 0:00:00\n",
      "Requirement already satisfied: scipy>=1.3.2 in c:\\users\\megal\\anaconda3\\lib\\site-packages (from imbalanced-learn) (1.10.1)\n",
      "Requirement already satisfied: threadpoolctl>=2.0.0 in c:\\users\\megal\\anaconda3\\lib\\site-packages (from imbalanced-learn) (2.1.0)\n",
      "Requirement already satisfied: scikit-learn>=1.0.2 in c:\\users\\megal\\anaconda3\\lib\\site-packages (from imbalanced-learn) (1.1.3)\n",
      "Requirement already satisfied: numpy>=1.17.3 in c:\\users\\megal\\anaconda3\\lib\\site-packages (from imbalanced-learn) (1.24.2)\n",
      "Collecting joblib>=1.1.1\n",
      "  Using cached joblib-1.2.0-py3-none-any.whl (297 kB)\n",
      "Installing collected packages: joblib, imbalanced-learn\n",
      "  Attempting uninstall: joblib\n",
      "    Found existing installation: joblib 1.0.1\n",
      "    Uninstalling joblib-1.0.1:\n",
      "      Successfully uninstalled joblib-1.0.1\n",
      "Successfully installed imbalanced-learn-0.10.1 joblib-1.2.0\n"
     ]
    },
    {
     "name": "stderr",
     "output_type": "stream",
     "text": [
      "\n",
      "[notice] A new release of pip available: 22.3.1 -> 23.1.2\n",
      "[notice] To update, run: python.exe -m pip install --upgrade pip\n"
     ]
    }
   ],
   "source": [
    "pip install imbalanced-learn"
   ]
  },
  {
   "cell_type": "code",
   "execution_count": 9,
   "metadata": {},
   "outputs": [],
   "source": [
    "import imblearn\n",
    "from imblearn.over_sampling import RandomOverSampler\n"
   ]
  },
  {
   "cell_type": "code",
   "execution_count": 5,
   "metadata": {},
   "outputs": [
    {
     "data": {
      "text/plain": [
       "'0.10.1'"
      ]
     },
     "execution_count": 5,
     "metadata": {},
     "output_type": "execute_result"
    }
   ],
   "source": [
    "imblearn.__version__"
   ]
  },
  {
   "cell_type": "code",
   "execution_count": 10,
   "metadata": {},
   "outputs": [],
   "source": [
    "# define oversampling strategy\n",
    "oversample = RandomOverSampler(sampling_strategy='minority')"
   ]
  },
  {
   "cell_type": "code",
   "execution_count": 2,
   "metadata": {},
   "outputs": [],
   "source": [
    "from sklearn import metrics\n",
    "from sklearn.metrics import auc\n",
    "import matplotlib.pyplot as plt\n",
    "from sklearn.decomposition import NMF\n",
    "from sklearn.metrics import precision_recall_curve\n",
    "from sklearn.metrics import plot_precision_recall_curve"
   ]
  },
  {
   "cell_type": "code",
   "execution_count": 6,
   "metadata": {},
   "outputs": [],
   "source": [
    "from nltk.tokenize import sent_tokenize, word_tokenize\n",
    "from nltk.corpus import stopwords\n",
    "from nltk.stem import PorterStemmer\n",
    "from nltk.stem import WordNetLemmatizer\n",
    "from sklearn.feature_extraction.text import TfidfVectorizer\n",
    "from sklearn.model_selection import train_test_split\n",
    "from sklearn.naive_bayes import MultinomialNB\n",
    "from sklearn.metrics import accuracy_score\n",
    "import re\n",
    "from sklearn import svm\n",
    "from sklearn.tree import DecisionTreeClassifier\n",
    "from sklearn.metrics import confusion_matrix\n",
    "from sklearn.metrics import precision_score\n",
    "from sklearn.metrics import recall_score\n",
    "from sklearn.metrics import f1_score\n",
    "from sklearn.model_selection import GridSearchCV\n",
    "#from operator import itemgetter"
   ]
  },
  {
   "cell_type": "code",
   "execution_count": 7,
   "metadata": {},
   "outputs": [],
   "source": [
    "# Read data into pandas dataframe\n",
    "df1 = pd.read_json('final_50k_221118.json', lines=True)"
   ]
  },
  {
   "attachments": {},
   "cell_type": "markdown",
   "metadata": {},
   "source": [
    "### Shuffling data and selecting first 30000 rows"
   ]
  },
  {
   "cell_type": "code",
   "execution_count": 8,
   "metadata": {},
   "outputs": [],
   "source": [
    "df_shuffled = df1.sample(frac=1, random_state=39)\n",
    "\n",
    "# Reset the index\n",
    "df_shuffled = df_shuffled.reset_index(drop=True)\n",
    "\n",
    "# Select first 30000 rows from the shuffled data set\n",
    "df_30 = df_shuffled[0:30000]\n",
    "\n",
    "# Regroup the df_30 dat set with unique business id\n",
    "df_new = df_30.groupby(df_30[\"awesome_biz_id\"],as_index=False).agg({\"content\":' '.join,\"business_name\":\"first\",\"is_entertainment\":\"first\",\"is_traffic\":\"first\"})\n",
    "\n",
    "# Define the label\n",
    "label = [\"is_entertainment\",\"is_traffic\"]\n",
    "\n",
    "# Extract the labels\n",
    "labeldf = df_new[[\"is_entertainment\",\"is_traffic\"]]\n",
    "\n",
    "# Extract \"business name\" and \"content\" columns\n",
    "df2 = df_new[[\"business_name\",\"content\"]]"
   ]
  },
  {
   "cell_type": "code",
   "execution_count": 9,
   "metadata": {},
   "outputs": [
    {
     "data": {
      "text/html": [
       "<div>\n",
       "<style scoped>\n",
       "    .dataframe tbody tr th:only-of-type {\n",
       "        vertical-align: middle;\n",
       "    }\n",
       "\n",
       "    .dataframe tbody tr th {\n",
       "        vertical-align: top;\n",
       "    }\n",
       "\n",
       "    .dataframe thead th {\n",
       "        text-align: right;\n",
       "    }\n",
       "</style>\n",
       "<table border=\"1\" class=\"dataframe\">\n",
       "  <thead>\n",
       "    <tr style=\"text-align: right;\">\n",
       "      <th></th>\n",
       "      <th>business_name</th>\n",
       "      <th>content</th>\n",
       "    </tr>\n",
       "  </thead>\n",
       "  <tbody>\n",
       "    <tr>\n",
       "      <th>0</th>\n",
       "      <td>Calzone</td>\n",
       "      <td>They do not make authentic Italian calzones. O...</td>\n",
       "    </tr>\n",
       "    <tr>\n",
       "      <th>1</th>\n",
       "      <td>cheebapotshop.com</td>\n",
       "      <td>They are scammers!!! DO NOT BUY PRODUCTS FROM ...</td>\n",
       "    </tr>\n",
       "    <tr>\n",
       "      <th>2</th>\n",
       "      <td>Perk Coffee Bar</td>\n",
       "      <td>Just opened the paper bag to find a burnt croi...</td>\n",
       "    </tr>\n",
       "    <tr>\n",
       "      <th>3</th>\n",
       "      <td>MB KAZMO OIL CO</td>\n",
       "      <td>Needed a quick car wash!!! In the sign $4.19 i...</td>\n",
       "    </tr>\n",
       "    <tr>\n",
       "      <th>4</th>\n",
       "      <td>Wash-N-Deliver</td>\n",
       "      <td>This service is convenient, easy, and fast. Li...</td>\n",
       "    </tr>\n",
       "    <tr>\n",
       "      <th>...</th>\n",
       "      <td>...</td>\n",
       "      <td>...</td>\n",
       "    </tr>\n",
       "    <tr>\n",
       "      <th>18719</th>\n",
       "      <td>Lucky Liquor Market</td>\n",
       "      <td>Vonsland! I swear, THIS IS ACTUALLY A SMALL TO...</td>\n",
       "    </tr>\n",
       "    <tr>\n",
       "      <th>18720</th>\n",
       "      <td>Pinot's Palette</td>\n",
       "      <td>This is a fun place to relax, create a paintin...</td>\n",
       "    </tr>\n",
       "    <tr>\n",
       "      <th>18721</th>\n",
       "      <td>Diem Hen</td>\n",
       "      <td>3 stars for food and service. I have a friend ...</td>\n",
       "    </tr>\n",
       "    <tr>\n",
       "      <th>18722</th>\n",
       "      <td>Empire Hookah Lounge</td>\n",
       "      <td>It's wasn't bad as all. It's very slow and eve...</td>\n",
       "    </tr>\n",
       "    <tr>\n",
       "      <th>18723</th>\n",
       "      <td>Minute Shops Liquor &amp; Deli</td>\n",
       "      <td>Great selection.. lots of high end options.. b...</td>\n",
       "    </tr>\n",
       "  </tbody>\n",
       "</table>\n",
       "<p>18724 rows × 2 columns</p>\n",
       "</div>"
      ],
      "text/plain": [
       "                    business_name  \\\n",
       "0                         Calzone   \n",
       "1               cheebapotshop.com   \n",
       "2                 Perk Coffee Bar   \n",
       "3                 MB KAZMO OIL CO   \n",
       "4                  Wash-N-Deliver   \n",
       "...                           ...   \n",
       "18719         Lucky Liquor Market   \n",
       "18720             Pinot's Palette   \n",
       "18721                    Diem Hen   \n",
       "18722        Empire Hookah Lounge   \n",
       "18723  Minute Shops Liquor & Deli   \n",
       "\n",
       "                                                 content  \n",
       "0      They do not make authentic Italian calzones. O...  \n",
       "1      They are scammers!!! DO NOT BUY PRODUCTS FROM ...  \n",
       "2      Just opened the paper bag to find a burnt croi...  \n",
       "3      Needed a quick car wash!!! In the sign $4.19 i...  \n",
       "4      This service is convenient, easy, and fast. Li...  \n",
       "...                                                  ...  \n",
       "18719  Vonsland! I swear, THIS IS ACTUALLY A SMALL TO...  \n",
       "18720  This is a fun place to relax, create a paintin...  \n",
       "18721  3 stars for food and service. I have a friend ...  \n",
       "18722  It's wasn't bad as all. It's very slow and eve...  \n",
       "18723  Great selection.. lots of high end options.. b...  \n",
       "\n",
       "[18724 rows x 2 columns]"
      ]
     },
     "execution_count": 9,
     "metadata": {},
     "output_type": "execute_result"
    }
   ],
   "source": [
    "df2"
   ]
  },
  {
   "attachments": {},
   "cell_type": "markdown",
   "metadata": {},
   "source": [
    "### Split into Train and Test"
   ]
  },
  {
   "cell_type": "code",
   "execution_count": 10,
   "metadata": {},
   "outputs": [],
   "source": [
    "df2_train, df2_test = train_test_split(df2, test_size=0.2, random_state=434)\n",
    "df2_train = df2_train.reset_index()\n",
    "df2_test = df2_test.reset_index()"
   ]
  },
  {
   "attachments": {},
   "cell_type": "markdown",
   "metadata": {},
   "source": [
    "### Tokenizing Data"
   ]
  },
  {
   "cell_type": "code",
   "execution_count": 11,
   "metadata": {},
   "outputs": [],
   "source": [
    "token = []\n",
    "name = [\"business_name\",\"content\"]\n",
    "dic1 = {}\n",
    "WORD = re.compile(r'\\w+')\n",
    "\n",
    "\n",
    "token = []\n",
    "name = [\"business_name\",\"content\"]\n",
    "dic_train = {}\n",
    "dic_test = {}\n",
    "WORD = re.compile(r'\\w+')"
   ]
  },
  {
   "cell_type": "code",
   "execution_count": 12,
   "metadata": {},
   "outputs": [],
   "source": [
    "def regTokenize(text):\n",
    "    words = WORD.findall(text)\n",
    "    return words"
   ]
  },
  {
   "cell_type": "code",
   "execution_count": 13,
   "metadata": {},
   "outputs": [],
   "source": [
    "# train\n",
    "for i in [0,1]:\n",
    "    arrx = []\n",
    "    for j in range(0,len(df2_train)):\n",
    "    #for j in range(0,len(df2[name[i]])):\n",
    "        listx = regTokenize(df2_train[name[i]][j])\n",
    "        arrx.append(listx)\n",
    "    dic_train[name[i]] = arrx\n",
    "\n",
    "# test \n",
    "for i in [0,1]:\n",
    "    arrx = []\n",
    "    for j in range(0,len(df2_test)):\n",
    "    #for j in range(0,len(df2[name[i]])):\n",
    "        listx = regTokenize(df2_test[name[i]][j])\n",
    "        arrx.append(listx)\n",
    "    dic_test[name[i]] = arrx   \n",
    "#print(dic1[\"business_name\"])\n",
    "# print(dic1[\"content\"][1])\n",
    "# dic1 contains all the tokens of business name and contents"
   ]
  },
  {
   "attachments": {},
   "cell_type": "markdown",
   "metadata": {},
   "source": [
    "### Stopwords"
   ]
  },
  {
   "cell_type": "code",
   "execution_count": 14,
   "metadata": {},
   "outputs": [
    {
     "name": "stdout",
     "output_type": "stream",
     "text": [
      "{'m', 'it', 'now', 'this', \"that'll\", 'but', 'when', 'same', '$', 'ours', 'his', \"aren't\", '>', \"she's\", 'itself', 'if', 'under', 'or', 'above', 'him', 'against', 'once', ':', 're', '<', 'd', 'has', 'll', \"won't\", 'between', 'in', 'my', 'theirs', ')', 'so', 'mightn', 'our', '&', 'o', 'than', 'no', 'what', 'them', '.', 'down', 'having', 'couldn', '_', 'nor', 'he', 'such', \"don't\", \"needn't\", 'doing', \"you'll\", 'will', 'y', 'can', \"mustn't\", 'doesn', 'were', 'ourselves', 'because', 'more', 'hasn', 'haven', \"hasn't\", '!', '}', 'its', 'themselves', 'are', 'other', '=', 'where', 'i', 'during', \"doesn't\", \"shan't\", 'had', 'hers', '?', 'any', 'not', 'aren', 'have', '@', 'until', '{', '#', 'off', 'a', 'they', '^', 'few', \"you'd\", \"couldn't\", 'is', 'didn', 's', 'just', 'weren', 'into', 'below', 'you', 'herself', '*', 'ain', 'does', 'her', '`', 'each', \"wouldn't\", 'don', 'won', 'we', 'only', 'here', 'their', 'most', 'who', 'that', 'about', '|', 'am', 'out', 'why', 'yourself', 'myself', 'wasn', 'these', ',', '[', '%', 'both', 'while', 'through', 'there', 'further', \"hadn't\", '(', '-', '\\\\', \"'s\", 'very', 'do', 've', 'needn', \"you're\", \"mightn't\", 'all', 'from', \"shouldn't\", 'himself', '\"', 'on', 'your', ';', 'and', 'an', 'which', 'she', \"it's\", 'did', '+', 'yours', 'was', \"isn't\", '/', 'after', 'whom', 'of', 'up', 'own', 'too', 'over', 'me', 'with', 'being', \"should've\", 'yourselves', \"didn't\", \"you've\", 'shan', 't', \"weren't\", 'shouldn', \"haven't\", 'by', 'how', 'been', \"'\", 'the', 'to', 'wouldn', 'hadn', 'for', 'mustn', 'again', 'be', 'ma', 'some', ']', 'at', 'before', 'should', '.....', 'as', 'isn', \"wasn't\", 'then', '~', 'those'}\n"
     ]
    }
   ],
   "source": [
    "stop_words = set(stopwords.words(\"english\"))\n",
    "for i in range(len(string.punctuation)):    \n",
    "    stop_words.add(string.punctuation[i])\n",
    "stop_words.add(\"'s\")\n",
    "stop_words.add(\".....\")\n",
    "print(stop_words)"
   ]
  },
  {
   "attachments": {},
   "cell_type": "markdown",
   "metadata": {},
   "source": [
    "### Stemming"
   ]
  },
  {
   "cell_type": "code",
   "execution_count": 15,
   "metadata": {},
   "outputs": [],
   "source": [
    "stemmer = PorterStemmer()\n",
    "\n",
    "# train\n",
    "for i in [0,1]:\n",
    "    arrc = []\n",
    "    for j in range(0,len(dic_train[name[i]])):\n",
    "        flist = []\n",
    "        for z in dic_train[name[i]][j]:\n",
    "            if z.casefold() not in stop_words:\n",
    "                flist.append(stemmer.stem(z))\n",
    "        arrc.append(' '.join(flist))\n",
    "    dic_train[name[i]] = arrc\n",
    "    \n",
    "# test\n",
    "for i in [0,1]:\n",
    "    arrc = []\n",
    "    for j in range(0,len(dic_test[name[i]])):\n",
    "        flist = []\n",
    "        for z in dic_test[name[i]][j]:\n",
    "            if z.casefold() not in stop_words:\n",
    "                flist.append(stemmer.stem(z))\n",
    "        arrc.append(' '.join(flist))\n",
    "    dic_test[name[i]] = arrc"
   ]
  },
  {
   "attachments": {},
   "cell_type": "markdown",
   "metadata": {},
   "source": [
    "### TF-IDF without NMF/SVD (without combining content and business name) 0.001 threshold\n"
   ]
  },
  {
   "cell_type": "code",
   "execution_count": 16,
   "metadata": {},
   "outputs": [
    {
     "name": "stdout",
     "output_type": "stream",
     "text": [
      "[[0. 0. 0. ... 0. 0. 0.]\n",
      " [0. 0. 0. ... 0. 0. 0.]\n",
      " [0. 0. 0. ... 0. 0. 0.]\n",
      " ...\n",
      " [0. 0. 0. ... 0. 0. 0.]\n",
      " [0. 0. 0. ... 0. 0. 0.]\n",
      " [0. 0. 0. ... 0. 0. 0.]]\n",
      "3300\n",
      "300\n",
      "3000\n",
      "[[0. 0. 0. ... 0. 0. 0.]\n",
      " [0. 0. 0. ... 0. 0. 0.]\n",
      " [0. 0. 0. ... 0. 0. 0.]\n",
      " ...\n",
      " [0. 0. 0. ... 0. 0. 0.]\n",
      " [0. 0. 0. ... 0. 0. 0.]\n",
      " [0. 0. 0. ... 0. 0. 0.]]\n",
      "3300\n",
      "300\n",
      "3000\n"
     ]
    }
   ],
   "source": [
    "# train tf-idf\n",
    "tf_idf_model_train_01  = TfidfVectorizer(min_df=0.001,max_features=300)\n",
    "#print(tf_idf_model.get_feature_names_out())\n",
    "bustf = dic_train[\"business_name\"]\n",
    "tf_idf_vector1 = tf_idf_model_train_01.fit_transform(bustf)\n",
    "tf_idf_array1 = tf_idf_vector1.toarray()\n",
    "#print(tf_idf_model.get_feature_names_out())\n",
    "tf_idf_model_train_01  = TfidfVectorizer(min_df=0.001,max_features=3000)\n",
    "contf = dic_train[\"content\"]\n",
    "tf_idf_vector2 = tf_idf_model_train_01.fit_transform(contf)\n",
    "tf_idf_array2 = tf_idf_vector2.toarray()\n",
    "#words_set = tf_idf_model.get_feature_names_out()\n",
    "#print(words_set)\n",
    "# TF-IDF without NMF\n",
    "X_01 = np.hstack((tf_idf_array1,tf_idf_array2))\n",
    "df_wt_nmf_train_01 = X_01\n",
    "print(df_wt_nmf_train_01)\n",
    "print(len(df_wt_nmf_train_01[1]))# 3652 columns\n",
    "print(len(tf_idf_array1[1]))\n",
    "print(len(tf_idf_array2[1]))\n",
    "# print(len(df_wt_nmf_train_01))\n",
    "\n",
    "# test tf-idf\n",
    "tf_idf_model_test_01  = TfidfVectorizer(min_df=0.001,max_features=300)\n",
    "#print(tf_idf_model.get_feature_names_out())\n",
    "bustf = dic_test[\"business_name\"]\n",
    "tf_idf_vector1 = tf_idf_model_test_01.fit_transform(bustf)\n",
    "tf_idf_array1 = tf_idf_vector1.toarray()\n",
    "#print(tf_idf_model.get_feature_names_out())\n",
    "tf_idf_model_test_01  = TfidfVectorizer(min_df=0.001,max_features=3000)\n",
    "contf = dic_test[\"content\"]\n",
    "tf_idf_vector2 = tf_idf_model_test_01.fit_transform(contf)\n",
    "tf_idf_array2 = tf_idf_vector2.toarray()\n",
    "#words_set = tf_idf_model.get_feature_names_out()\n",
    "#print(words_set)\n",
    "# TF-IDF without NMF\n",
    "X_01 = np.hstack((tf_idf_array1,tf_idf_array2))\n",
    "df_wt_nmf_test_01 = X_01\n",
    "print(df_wt_nmf_test_01)\n",
    "print(len(df_wt_nmf_test_01[1]))# 3652 columns\n",
    "print(len(tf_idf_array1[1]))\n",
    "print(len(tf_idf_array2[1]))\n",
    "# print(len(df_wt_nmf_test_01))"
   ]
  },
  {
   "cell_type": "code",
   "execution_count": 26,
   "metadata": {},
   "outputs": [
    {
     "name": "stdout",
     "output_type": "stream",
     "text": [
      "is_entertainment\n",
      "Fitting 3 folds for each of 800 candidates, totalling 2400 fits\n",
      "DecisionTreeClassifier(criterion='entropy', max_depth=100, max_features='sqrt',\n",
      "                       min_samples_leaf=2, min_samples_split=20,\n",
      "                       random_state=42, splitter='random')\n",
      "Accuracy: 0.79\n",
      "[[2863  370]\n",
      " [ 434   78]] : is the confusion matrix\n",
      "0.17410714285714285 : is the precision score\n",
      "0.15234375 : is the recall score\n",
      "0.1625 : is the f1 score\n"
     ]
    },
    {
     "name": "stderr",
     "output_type": "stream",
     "text": [
      "c:\\Users\\megal\\anaconda3\\lib\\site-packages\\sklearn\\utils\\deprecation.py:87: FutureWarning: Function plot_precision_recall_curve is deprecated; Function `plot_precision_recall_curve` is deprecated in 1.0 and will be removed in 1.2. Use one of the class methods: PrecisionRecallDisplay.from_predictions or PrecisionRecallDisplay.from_estimator.\n",
      "  warnings.warn(msg, category=FutureWarning)\n"
     ]
    },
    {
     "name": "stdout",
     "output_type": "stream",
     "text": [
      "is_traffic\n",
      "Fitting 3 folds for each of 800 candidates, totalling 2400 fits\n",
      "DecisionTreeClassifier(max_depth=20, max_features='log2', min_samples_leaf=20,\n",
      "                       random_state=42)\n",
      "Accuracy: 0.82\n",
      "[[  31  649]\n",
      " [  24 3041]] : is the confusion matrix\n",
      "0.824119241192412 : is the precision score\n",
      "0.9921696574225123 : is the recall score\n",
      "0.9003700962250185 : is the f1 score\n"
     ]
    },
    {
     "name": "stderr",
     "output_type": "stream",
     "text": [
      "c:\\Users\\megal\\anaconda3\\lib\\site-packages\\sklearn\\utils\\deprecation.py:87: FutureWarning: Function plot_precision_recall_curve is deprecated; Function `plot_precision_recall_curve` is deprecated in 1.0 and will be removed in 1.2. Use one of the class methods: PrecisionRecallDisplay.from_predictions or PrecisionRecallDisplay.from_estimator.\n",
      "  warnings.warn(msg, category=FutureWarning)\n"
     ]
    },
    {
     "data": {
      "image/png": "[encoded data removed]",
      "text/plain": [
       "<Figure size 432x288 with 1 Axes>"
      ]
     },
     "metadata": {
      "needs_background": "light"
     },
     "output_type": "display_data"
    },
    {
     "data": {
      "image/png": "[encoded data removed]",
      "text/plain": [
       "<Figure size 432x288 with 1 Axes>"
      ]
     },
     "metadata": {
      "needs_background": "light"
     },
     "output_type": "display_data"
    }
   ],
   "source": [
    "from sklearn.neighbors import KNeighborsClassifier\n",
    "\n",
    "npr.seed(123)\n",
    "\n",
    "for j in [0,1]:\n",
    "    print(label[j])\n",
    "    X_train = df_wt_nmf_train_01\n",
    "    X_test = df_wt_nmf_test_01\n",
    "    y_train, y_test = train_test_split(labeldf[label[j]], test_size=0.2, random_state=434)\n",
    "    # create and fit the decision model\n",
    "    tree_model = DecisionTreeClassifier(random_state=42)\n",
    "    tree_model.fit(X_train, y_train)\n",
    "    # Create the parameter grid based on the results of random search \n",
    "    params = {\n",
    "    'max_depth': [20, 30, 50, 100],\n",
    "    'min_samples_leaf': [2,5,10,15,20],\n",
    "    'min_samples_split': [2,10,20,30,40],\n",
    "    'splitter' : ['best','random'],\n",
    "    'max_features' : ['sqrt','log2'],\n",
    "    'criterion' : ['gini', 'entropy']\n",
    "    }\n",
    "    # Instantiate the grid search model\n",
    "    grid_search = GridSearchCV(estimator=tree_model, \n",
    "                           param_grid=params, \n",
    "                           cv=3, n_jobs=-1, verbose=1, scoring = \"f1\")\n",
    "    # fit grid  search on training data\n",
    "    grid_search.fit(X_train, y_train)\n",
    "    print(grid_search.best_estimator_)\n",
    "    tree_model_best = grid_search.best_estimator_\n",
    "    # make predictions on the test data after CV\n",
    "    \n",
    "    y_pred = tree_model_best.predict(X_test)\n",
    "                    \n",
    "    accuracy = accuracy_score(y_test, y_pred)\n",
    "    print(f'Accuracy: {accuracy:.2f}')\n",
    "        \n",
    "    print(confusion_matrix(y_test, y_pred), \": is the confusion matrix\")\n",
    "    \n",
    "    print(precision_score(y_test, y_pred), \": is the precision score\")\n",
    "\n",
    "    print(recall_score(y_test, y_pred), \": is the recall score\")\n",
    "\n",
    "    print(f1_score(y_test, y_pred), \": is the f1 score\")\n",
    "    \n",
    "    # precision/recall curve\n",
    "    plot_precision_recall_curve(tree_model_best, X_test, y_test, name = 'Decision Tree with hyperparameter tuning')\n",
    "\n",
    "    '''\n",
    "    # precision/recall curves\n",
    "    #calculate precision and recall\n",
    "    y_score = knn_model.predict_proba(X_test)[:, 1]\n",
    "    precision, recall, thresholds = precision_recall_curve(y_test, y_score)\n",
    "\n",
    "    #create precision recall curve\n",
    "    fig, ax = plt.subplots()\n",
    "    ax.plot(recall, precision, color='blue',label='KNN')\n",
    "\n",
    "    #add axis labels to plot\n",
    "    # ax.set_title('Precision-Recall Curve')\n",
    "    ax.set_ylabel('Precision(Positive label:True)')\n",
    "    ax.set_xlabel('Recall(Positive label:True)')\n",
    "\n",
    "    #display plot\n",
    "    plt.legend()\n",
    "    plt.show()\n",
    "    '''"
   ]
  },
  {
   "attachments": {},
   "cell_type": "markdown",
   "metadata": {},
   "source": [
    "### TF-IDF without NMF/SVD (without combining content and business name) 0.003 threshold\n"
   ]
  },
  {
   "cell_type": "code",
   "execution_count": 32,
   "metadata": {},
   "outputs": [
    {
     "name": "stdout",
     "output_type": "stream",
     "text": [
      "[[0. 0. 0. ... 0. 0. 0.]\n",
      " [0. 0. 0. ... 0. 0. 0.]\n",
      " [0. 0. 0. ... 0. 0. 0.]\n",
      " ...\n",
      " [0. 0. 0. ... 0. 0. 0.]\n",
      " [0. 0. 0. ... 0. 0. 0.]\n",
      " [0. 0. 0. ... 0. 0. 0.]]\n",
      "1600\n",
      "100\n",
      "1500\n",
      "[[0. 0. 0. ... 0. 0. 0.]\n",
      " [0. 0. 0. ... 0. 0. 0.]\n",
      " [0. 0. 0. ... 0. 0. 0.]\n",
      " ...\n",
      " [0. 0. 0. ... 0. 0. 0.]\n",
      " [0. 0. 0. ... 0. 0. 0.]\n",
      " [0. 0. 0. ... 0. 0. 0.]]\n",
      "1600\n",
      "100\n",
      "1500\n"
     ]
    }
   ],
   "source": [
    "# train tf-idf\n",
    "tf_idf_model_train_01  = TfidfVectorizer(min_df=0.003,max_features=100)\n",
    "#print(tf_idf_model.get_feature_names_out())\n",
    "bustf = dic_train[\"business_name\"]\n",
    "tf_idf_vector1 = tf_idf_model_train_01.fit_transform(bustf)\n",
    "tf_idf_array1 = tf_idf_vector1.toarray()\n",
    "#print(tf_idf_model.get_feature_names_out())\n",
    "tf_idf_model_train_01  = TfidfVectorizer(min_df=0.003,max_features=1500)\n",
    "contf = dic_train[\"content\"]\n",
    "tf_idf_vector2 = tf_idf_model_train_01.fit_transform(contf)\n",
    "tf_idf_array2 = tf_idf_vector2.toarray()\n",
    "#words_set = tf_idf_model.get_feature_names_out()\n",
    "#print(words_set)\n",
    "# TF-IDF without NMF\n",
    "X_01 = np.hstack((tf_idf_array1,tf_idf_array2))\n",
    "df_wt_nmf_train_01 = X_01\n",
    "print(df_wt_nmf_train_01)\n",
    "print(len(df_wt_nmf_train_01[1]))# 3652 columns\n",
    "print(len(tf_idf_array1[1]))\n",
    "print(len(tf_idf_array2[1]))\n",
    "# print(len(df_wt_nmf_train_01))\n",
    "\n",
    "# test tf-idf\n",
    "tf_idf_model_test_01  = TfidfVectorizer(min_df=0.003,max_features=100)\n",
    "#print(tf_idf_model.get_feature_names_out())\n",
    "bustf = dic_test[\"business_name\"]\n",
    "tf_idf_vector1 = tf_idf_model_test_01.fit_transform(bustf)\n",
    "tf_idf_array1 = tf_idf_vector1.toarray()\n",
    "#print(tf_idf_model.get_feature_names_out())\n",
    "tf_idf_model_test_01  = TfidfVectorizer(min_df=0.003,max_features=1500)\n",
    "contf = dic_test[\"content\"]\n",
    "tf_idf_vector2 = tf_idf_model_test_01.fit_transform(contf)\n",
    "tf_idf_array2 = tf_idf_vector2.toarray()\n",
    "#words_set = tf_idf_model.get_feature_names_out()\n",
    "#print(words_set)\n",
    "# TF-IDF without NMF\n",
    "X_01 = np.hstack((tf_idf_array1,tf_idf_array2))\n",
    "df_wt_nmf_test_01 = X_01\n",
    "print(df_wt_nmf_test_01)\n",
    "print(len(df_wt_nmf_test_01[1]))# 3652 columns\n",
    "print(len(tf_idf_array1[1]))\n",
    "print(len(tf_idf_array2[1]))\n",
    "# print(len(df_wt_nmf_test_01))"
   ]
  },
  {
   "cell_type": "code",
   "execution_count": 1,
   "metadata": {},
   "outputs": [
    {
     "ename": "NameError",
     "evalue": "name 'npr' is not defined",
     "output_type": "error",
     "traceback": [
      "\u001b[1;31m---------------------------------------------------------------------------\u001b[0m",
      "\u001b[1;31mNameError\u001b[0m                                 Traceback (most recent call last)",
      "\u001b[1;32mc:\\Users\\megal\\OneDrive\\Documents\\CS190\\capstone-carpe-data\\dec-tree-cross-val-tf-idf.ipynb Cell 27\u001b[0m in \u001b[0;36m<cell line: 2>\u001b[1;34m()\u001b[0m\n\u001b[0;32m      <a href='vscode-notebook-cell:/c%3A/Users/megal/OneDrive/Documents/CS190/capstone-carpe-data/dec-tree-cross-val-tf-idf.ipynb#X35sZmlsZQ%3D%3D?line=0'>1</a>\u001b[0m \u001b[39mfrom\u001b[39;00m \u001b[39msklearn\u001b[39;00m\u001b[39m.\u001b[39;00m\u001b[39mmetrics\u001b[39;00m \u001b[39mimport\u001b[39;00m plot_precision_recall_curve\n\u001b[1;32m----> <a href='vscode-notebook-cell:/c%3A/Users/megal/OneDrive/Documents/CS190/capstone-carpe-data/dec-tree-cross-val-tf-idf.ipynb#X35sZmlsZQ%3D%3D?line=1'>2</a>\u001b[0m npr\u001b[39m.\u001b[39mseed(\u001b[39m123\u001b[39m)\n\u001b[0;32m      <a href='vscode-notebook-cell:/c%3A/Users/megal/OneDrive/Documents/CS190/capstone-carpe-data/dec-tree-cross-val-tf-idf.ipynb#X35sZmlsZQ%3D%3D?line=3'>4</a>\u001b[0m \u001b[39mfor\u001b[39;00m j \u001b[39min\u001b[39;00m [\u001b[39m0\u001b[39m,\u001b[39m1\u001b[39m]:\n\u001b[0;32m      <a href='vscode-notebook-cell:/c%3A/Users/megal/OneDrive/Documents/CS190/capstone-carpe-data/dec-tree-cross-val-tf-idf.ipynb#X35sZmlsZQ%3D%3D?line=4'>5</a>\u001b[0m     \u001b[39mprint\u001b[39m(label[j])\n",
      "\u001b[1;31mNameError\u001b[0m: name 'npr' is not defined"
     ]
    }
   ],
   "source": [
    "from sklearn.metrics import plot_precision_recall_curve\n",
    "npr.seed(123)\n",
    "\n",
    "for j in [0,1]:\n",
    "    print(label[j])\n",
    "    X_train = df_wt_nmf_train_01\n",
    "    X_test = df_wt_nmf_test_01\n",
    "    y_train, y_test = train_test_split(labeldf[label[j]], test_size=0.2, random_state=434)\n",
    "    # create and fit the decision model\n",
    "    tree_model = DecisionTreeClassifier(random_state=42)\n",
    "    tree_model.fit(X_train, y_train)\n",
    "    # Create the parameter grid based on the results of random search \n",
    "    params = {\n",
    "    'max_depth': [20, 30, 50, 100],\n",
    "    'min_samples_leaf': [2,5,10,15,20],\n",
    "    'min_samples_split': [2,10,20,30,40],\n",
    "    'splitter' : ['best','random'],\n",
    "    'max_features' : ['sqrt','log2'],\n",
    "    'criterion' : ['gini', 'entropy']\n",
    "    }\n",
    "    # Instantiate the grid search model\n",
    "    grid_search = GridSearchCV(estimator=tree_model, \n",
    "                           param_grid=params, \n",
    "                           cv=3, n_jobs=-1, verbose=1, scoring = \"f1\")\n",
    "    # fit grid  search on training data\n",
    "    grid_search.fit(X_train, y_train)\n",
    "    print(grid_search.best_estimator_)\n",
    "    tree_model_best = grid_search.best_estimator_\n",
    "    # make predictions on the test data after CV\n",
    "    \n",
    "    y_pred = tree_model_best.predict(X_test)\n",
    "                    \n",
    "    accuracy = accuracy_score(y_test, y_pred)\n",
    "    print(f'Accuracy: {accuracy:.2f}')\n",
    "        \n",
    "    print(confusion_matrix(y_test, y_pred), \": is the confusion matrix\")\n",
    "    \n",
    "    print(precision_score(y_test, y_pred), \": is the precision score\")\n",
    "\n",
    "    print(recall_score(y_test, y_pred), \": is the recall score\")\n",
    "\n",
    "    print(f1_score(y_test, y_pred), \": is the f1 score\")\n",
    "    \n",
    "    # precision/recall curve\n",
    "    plot_precision_recall_curve(tree_model_best, X_test, y_test, name = 'Decision Tree with hyperparameter tuning')\n",
    "\n",
    "    '''\n",
    "    # precision/recall curves\n",
    "    #calculate precision and recall\n",
    "    y_score = knn_model.predict_proba(X_test)[:, 1]\n",
    "    precision, recall, thresholds = precision_recall_curve(y_test, y_score)\n",
    "\n",
    "    #create precision recall curve\n",
    "    fig, ax = plt.subplots()\n",
    "    ax.plot(recall, precision, color='blue',label='KNN')\n",
    "\n",
    "    #add axis labels to plot\n",
    "    # ax.set_title('Precision-Recall Curve')\n",
    "    ax.set_ylabel('Precision(Positive label:True)')\n",
    "    ax.set_xlabel('Recall(Positive label:True)')\n",
    "\n",
    "    #display plot\n",
    "    plt.legend()\n",
    "    plt.show()\n",
    "    '''"
   ]
  },
  {
   "attachments": {},
   "cell_type": "markdown",
   "metadata": {},
   "source": [
    "### TF-IDF without NMF/SVD (without combining content and business name) 0.003 threshold"
   ]
  },
  {
   "cell_type": "code",
   "execution_count": 35,
   "metadata": {},
   "outputs": [
    {
     "name": "stdout",
     "output_type": "stream",
     "text": [
      "[[0. 0. 0. ... 0. 0. 0.]\n",
      " [0. 0. 0. ... 0. 0. 0.]\n",
      " [0. 0. 0. ... 0. 0. 0.]\n",
      " ...\n",
      " [0. 0. 0. ... 0. 0. 0.]\n",
      " [0. 0. 0. ... 0. 0. 0.]\n",
      " [0. 0. 0. ... 0. 0. 0.]]\n",
      "1258\n",
      "58\n",
      "1200\n",
      "[[0. 0. 0. ... 0. 0. 0.]\n",
      " [0. 0. 0. ... 0. 0. 0.]\n",
      " [0. 0. 0. ... 0. 0. 0.]\n",
      " ...\n",
      " [0. 0. 0. ... 0. 0. 0.]\n",
      " [0. 0. 0. ... 0. 0. 0.]\n",
      " [0. 0. 0. ... 0. 0. 0.]]\n",
      "1258\n",
      "58\n",
      "1200\n"
     ]
    }
   ],
   "source": [
    "# train tf-idf\n",
    "tf_idf_model_train_01  = TfidfVectorizer(min_df=0.005,max_features=58)\n",
    "#print(tf_idf_model.get_feature_names_out())\n",
    "bustf = dic_train[\"business_name\"]\n",
    "tf_idf_vector1 = tf_idf_model_train_01.fit_transform(bustf)\n",
    "tf_idf_array1 = tf_idf_vector1.toarray()\n",
    "#print(tf_idf_model.get_feature_names_out())\n",
    "tf_idf_model_train_01  = TfidfVectorizer(min_df=0.005,max_features=1200)\n",
    "contf = dic_train[\"content\"]\n",
    "tf_idf_vector2 = tf_idf_model_train_01.fit_transform(contf)\n",
    "tf_idf_array2 = tf_idf_vector2.toarray()\n",
    "#words_set = tf_idf_model.get_feature_names_out()\n",
    "#print(words_set)\n",
    "# TF-IDF without NMF\n",
    "X_01 = np.hstack((tf_idf_array1,tf_idf_array2))\n",
    "df_wt_nmf_train_01 = X_01\n",
    "print(df_wt_nmf_train_01)\n",
    "print(len(df_wt_nmf_train_01[1]))# 3652 columns\n",
    "print(len(tf_idf_array1[1]))\n",
    "print(len(tf_idf_array2[1]))\n",
    "# print(len(df_wt_nmf_train_01))\n",
    "\n",
    "# test tf-idf\n",
    "tf_idf_model_test_01  = TfidfVectorizer(min_df=0.005,max_features=58)\n",
    "#print(tf_idf_model.get_feature_names_out())\n",
    "bustf = dic_test[\"business_name\"]\n",
    "tf_idf_vector1 = tf_idf_model_test_01.fit_transform(bustf)\n",
    "tf_idf_array1 = tf_idf_vector1.toarray()\n",
    "#print(tf_idf_model.get_feature_names_out())\n",
    "tf_idf_model_test_01  = TfidfVectorizer(min_df=0.005,max_features=1200)\n",
    "contf = dic_test[\"content\"]\n",
    "tf_idf_vector2 = tf_idf_model_test_01.fit_transform(contf)\n",
    "tf_idf_array2 = tf_idf_vector2.toarray()\n",
    "#words_set = tf_idf_model.get_feature_names_out()\n",
    "#print(words_set)\n",
    "# TF-IDF without NMF\n",
    "X_01 = np.hstack((tf_idf_array1,tf_idf_array2))\n",
    "df_wt_nmf_test_01 = X_01\n",
    "print(df_wt_nmf_test_01)\n",
    "print(len(df_wt_nmf_test_01[1]))# 3652 columns\n",
    "print(len(tf_idf_array1[1]))\n",
    "print(len(tf_idf_array2[1]))\n",
    "# print(len(df_wt_nmf_test_01))"
   ]
  },
  {
   "cell_type": "code",
   "execution_count": 36,
   "metadata": {},
   "outputs": [
    {
     "name": "stdout",
     "output_type": "stream",
     "text": [
      "is_entertainment\n",
      "Fitting 3 folds for each of 800 candidates, totalling 2400 fits\n",
      "DecisionTreeClassifier(criterion='entropy', max_depth=100, max_features='sqrt',\n",
      "                       min_samples_leaf=2, min_samples_split=40,\n",
      "                       random_state=42)\n",
      "Accuracy: 0.84\n",
      "[[3007  226]\n",
      " [ 381  131]] : is the confusion matrix\n",
      "0.36694677871148457 : is the precision score\n",
      "0.255859375 : is the recall score\n",
      "0.3014959723820483 : is the f1 score\n",
      "is_traffic\n"
     ]
    },
    {
     "name": "stderr",
     "output_type": "stream",
     "text": [
      "c:\\Users\\megal\\anaconda3\\lib\\site-packages\\sklearn\\utils\\deprecation.py:87: FutureWarning: Function plot_precision_recall_curve is deprecated; Function `plot_precision_recall_curve` is deprecated in 1.0 and will be removed in 1.2. Use one of the class methods: PrecisionRecallDisplay.from_predictions or PrecisionRecallDisplay.from_estimator.\n",
      "  warnings.warn(msg, category=FutureWarning)\n"
     ]
    },
    {
     "name": "stdout",
     "output_type": "stream",
     "text": [
      "Fitting 3 folds for each of 800 candidates, totalling 2400 fits\n",
      "DecisionTreeClassifier(max_depth=30, max_features='sqrt', min_samples_leaf=20,\n",
      "                       random_state=42, splitter='random')\n",
      "Accuracy: 0.81\n",
      "[[  57  623]\n",
      " [  91 2974]] : is the confusion matrix\n",
      "0.8268001112037809 : is the precision score\n",
      "0.9703099510603589 : is the recall score\n",
      "0.892824977484239 : is the f1 score\n"
     ]
    },
    {
     "name": "stderr",
     "output_type": "stream",
     "text": [
      "c:\\Users\\megal\\anaconda3\\lib\\site-packages\\sklearn\\utils\\deprecation.py:87: FutureWarning: Function plot_precision_recall_curve is deprecated; Function `plot_precision_recall_curve` is deprecated in 1.0 and will be removed in 1.2. Use one of the class methods: PrecisionRecallDisplay.from_predictions or PrecisionRecallDisplay.from_estimator.\n",
      "  warnings.warn(msg, category=FutureWarning)\n"
     ]
    },
    {
     "data": {
      "image/png": "[encoded data removed]",
      "text/plain": [
       "<Figure size 432x288 with 1 Axes>"
      ]
     },
     "metadata": {
      "needs_background": "light"
     },
     "output_type": "display_data"
    },
    {
     "data": {
      "image/png": "[encoded data removed]",
      "text/plain": [
       "<Figure size 432x288 with 1 Axes>"
      ]
     },
     "metadata": {
      "needs_background": "light"
     },
     "output_type": "display_data"
    }
   ],
   "source": [
    "from sklearn.neighbors import KNeighborsClassifier\n",
    "\n",
    "npr.seed(123)\n",
    "\n",
    "for j in [0,1]:\n",
    "    print(label[j])\n",
    "    X_train = df_wt_nmf_train_01\n",
    "    X_test = df_wt_nmf_test_01\n",
    "    y_train, y_test = train_test_split(labeldf[label[j]], test_size=0.2, random_state=434)\n",
    "    # create and fit the decision model\n",
    "    tree_model = DecisionTreeClassifier(random_state=42)\n",
    "    tree_model.fit(X_train, y_train)\n",
    "    # Create the parameter grid based on the results of random search \n",
    "    params = {\n",
    "    'max_depth': [20, 30, 50, 100],\n",
    "    'min_samples_leaf': [2,5,10,15,20],\n",
    "    'min_samples_split': [2,10,20,30,40],\n",
    "    'splitter' : ['best','random'],\n",
    "    'max_features' : ['sqrt','log2'],\n",
    "    'criterion' : ['gini', 'entropy']\n",
    "    }\n",
    "    # Instantiate the grid search model\n",
    "    grid_search = GridSearchCV(estimator=tree_model, \n",
    "                           param_grid=params, \n",
    "                           cv=3, n_jobs=-1, verbose=1, scoring = \"f1\")\n",
    "    # fit grid  search on training data\n",
    "    grid_search.fit(X_train, y_train)\n",
    "    print(grid_search.best_estimator_)\n",
    "    tree_model_best = grid_search.best_estimator_\n",
    "    # make predictions on the test data after CV\n",
    "    \n",
    "    y_pred = tree_model_best.predict(X_test)\n",
    "                    \n",
    "    accuracy = accuracy_score(y_test, y_pred)\n",
    "    print(f'Accuracy: {accuracy:.2f}')\n",
    "        \n",
    "    print(confusion_matrix(y_test, y_pred), \": is the confusion matrix\")\n",
    "    \n",
    "    print(precision_score(y_test, y_pred), \": is the precision score\")\n",
    "\n",
    "    print(recall_score(y_test, y_pred), \": is the recall score\")\n",
    "\n",
    "    print(f1_score(y_test, y_pred), \": is the f1 score\")\n",
    "    \n",
    "    # precision/recall curve\n",
    "    plot_precision_recall_curve(tree_model_best, X_test, y_test, name = 'Decision Tree with hyperparameter tuning')\n",
    "\n",
    "    '''\n",
    "    # precision/recall curves\n",
    "    #calculate precision and recall\n",
    "    y_score = knn_model.predict_proba(X_test)[:, 1]\n",
    "    precision, recall, thresholds = precision_recall_curve(y_test, y_score)\n",
    "\n",
    "    #create precision recall curve\n",
    "    fig, ax = plt.subplots()\n",
    "    ax.plot(recall, precision, color='blue',label='KNN')\n",
    "\n",
    "    #add axis labels to plot\n",
    "    # ax.set_title('Precision-Recall Curve')\n",
    "    ax.set_ylabel('Precision(Positive label:True)')\n",
    "    ax.set_xlabel('Recall(Positive label:True)')\n",
    "\n",
    "    #display plot\n",
    "    plt.legend()\n",
    "    plt.show()\n",
    "    '''"
   ]
  },
  {
   "attachments": {},
   "cell_type": "markdown",
   "metadata": {},
   "source": [
    "### TF-IDF without NMF/SVD (without combining content and business name) 0.01 threshold"
   ]
  },
  {
   "cell_type": "code",
   "execution_count": 40,
   "metadata": {},
   "outputs": [
    {
     "name": "stdout",
     "output_type": "stream",
     "text": [
      "[[0. 0. 0. ... 0. 0. 0.]\n",
      " [0. 0. 0. ... 0. 0. 0.]\n",
      " [0. 0. 0. ... 0. 0. 0.]\n",
      " ...\n",
      " [0. 0. 0. ... 0. 0. 0.]\n",
      " [0. 0. 0. ... 0. 0. 0.]\n",
      " [0. 0. 0. ... 0. 0. 0.]]\n",
      "757\n",
      "25\n",
      "732\n",
      "[[0. 0. 0. ... 0. 0. 0.]\n",
      " [0. 0. 0. ... 0. 0. 0.]\n",
      " [0. 0. 0. ... 0. 0. 0.]\n",
      " ...\n",
      " [0. 0. 0. ... 0. 0. 0.]\n",
      " [0. 0. 0. ... 0. 0. 0.]\n",
      " [0. 0. 0. ... 0. 0. 0.]]\n",
      "757\n",
      "25\n",
      "732\n"
     ]
    }
   ],
   "source": [
    "# train tf-idf\n",
    "tf_idf_model_train_01  = TfidfVectorizer(min_df=0.01,max_features=25)\n",
    "#print(tf_idf_model.get_feature_names_out())\n",
    "bustf = dic_train[\"business_name\"]\n",
    "tf_idf_vector1 = tf_idf_model_train_01.fit_transform(bustf)\n",
    "tf_idf_array1 = tf_idf_vector1.toarray()\n",
    "#print(tf_idf_model.get_feature_names_out())\n",
    "tf_idf_model_train_01  = TfidfVectorizer(min_df=0.01,max_features=732)\n",
    "contf = dic_train[\"content\"]\n",
    "tf_idf_vector2 = tf_idf_model_train_01.fit_transform(contf)\n",
    "tf_idf_array2 = tf_idf_vector2.toarray()\n",
    "#words_set = tf_idf_model.get_feature_names_out()\n",
    "#print(words_set)\n",
    "# TF-IDF without NMF\n",
    "X_01 = np.hstack((tf_idf_array1,tf_idf_array2))\n",
    "df_wt_nmf_train_01 = X_01\n",
    "print(df_wt_nmf_train_01)\n",
    "print(len(df_wt_nmf_train_01[1]))# 3652 columns\n",
    "print(len(tf_idf_array1[1]))\n",
    "print(len(tf_idf_array2[1]))\n",
    "# print(len(df_wt_nmf_train_01))\n",
    "\n",
    "# test tf-idf\n",
    "tf_idf_model_test_01  = TfidfVectorizer(min_df=0.01,max_features=25)\n",
    "#print(tf_idf_model.get_feature_names_out())\n",
    "bustf = dic_test[\"business_name\"]\n",
    "tf_idf_vector1 = tf_idf_model_test_01.fit_transform(bustf)\n",
    "tf_idf_array1 = tf_idf_vector1.toarray()\n",
    "#print(tf_idf_model.get_feature_names_out())\n",
    "tf_idf_model_test_01  = TfidfVectorizer(min_df=0.01,max_features=732)\n",
    "contf = dic_test[\"content\"]\n",
    "tf_idf_vector2 = tf_idf_model_test_01.fit_transform(contf)\n",
    "tf_idf_array2 = tf_idf_vector2.toarray()\n",
    "#words_set = tf_idf_model.get_feature_names_out()\n",
    "#print(words_set)\n",
    "# TF-IDF without NMF\n",
    "X_01 = np.hstack((tf_idf_array1,tf_idf_array2))\n",
    "df_wt_nmf_test_01 = X_01\n",
    "print(df_wt_nmf_test_01)\n",
    "print(len(df_wt_nmf_test_01[1]))# 3652 columns\n",
    "print(len(tf_idf_array1[1]))\n",
    "print(len(tf_idf_array2[1]))\n",
    "# print(len(df_wt_nmf_test_01))"
   ]
  },
  {
   "cell_type": "code",
   "execution_count": 41,
   "metadata": {},
   "outputs": [
    {
     "name": "stdout",
     "output_type": "stream",
     "text": [
      "is_entertainment\n",
      "Fitting 3 folds for each of 800 candidates, totalling 2400 fits\n",
      "DecisionTreeClassifier(criterion='entropy', max_depth=50, max_features='sqrt',\n",
      "                       min_samples_leaf=2, min_samples_split=40,\n",
      "                       random_state=42, splitter='random')\n",
      "Accuracy: 0.86\n",
      "[[3109  124]\n",
      " [ 413   99]] : is the confusion matrix\n",
      "0.4439461883408072 : is the precision score\n",
      "0.193359375 : is the recall score\n",
      "0.2693877551020409 : is the f1 score\n",
      "is_traffic\n"
     ]
    },
    {
     "name": "stderr",
     "output_type": "stream",
     "text": [
      "c:\\Users\\megal\\anaconda3\\lib\\site-packages\\sklearn\\utils\\deprecation.py:87: FutureWarning: Function plot_precision_recall_curve is deprecated; Function `plot_precision_recall_curve` is deprecated in 1.0 and will be removed in 1.2. Use one of the class methods: PrecisionRecallDisplay.from_predictions or PrecisionRecallDisplay.from_estimator.\n",
      "  warnings.warn(msg, category=FutureWarning)\n"
     ]
    },
    {
     "name": "stdout",
     "output_type": "stream",
     "text": [
      "Fitting 3 folds for each of 800 candidates, totalling 2400 fits\n",
      "DecisionTreeClassifier(criterion='entropy', max_depth=20, max_features='sqrt',\n",
      "                       min_samples_leaf=15, random_state=42, splitter='random')\n",
      "Accuracy: 0.81\n",
      "[[ 132  548]\n",
      " [ 166 2899]] : is the confusion matrix\n",
      "0.8410211778357992 : is the precision score\n",
      "0.9458401305057096 : is the recall score\n",
      "0.8903562653562653 : is the f1 score\n"
     ]
    },
    {
     "name": "stderr",
     "output_type": "stream",
     "text": [
      "c:\\Users\\megal\\anaconda3\\lib\\site-packages\\sklearn\\utils\\deprecation.py:87: FutureWarning: Function plot_precision_recall_curve is deprecated; Function `plot_precision_recall_curve` is deprecated in 1.0 and will be removed in 1.2. Use one of the class methods: PrecisionRecallDisplay.from_predictions or PrecisionRecallDisplay.from_estimator.\n",
      "  warnings.warn(msg, category=FutureWarning)\n"
     ]
    },
    {
     "data": {
      "image/png": "[encoded data removed]",
      "text/plain": [
       "<Figure size 432x288 with 1 Axes>"
      ]
     },
     "metadata": {
      "needs_background": "light"
     },
     "output_type": "display_data"
    },
    {
     "data": {
      "image/png": "[encoded data removed]",
      "text/plain": [
       "<Figure size 432x288 with 1 Axes>"
      ]
     },
     "metadata": {
      "needs_background": "light"
     },
     "output_type": "display_data"
    }
   ],
   "source": [
    "from sklearn.neighbors import KNeighborsClassifier\n",
    "\n",
    "npr.seed(123)\n",
    "\n",
    "for j in [0,1]:\n",
    "    print(label[j])\n",
    "    X_train = df_wt_nmf_train_01\n",
    "    X_test = df_wt_nmf_test_01\n",
    "    y_train, y_test = train_test_split(labeldf[label[j]], test_size=0.2, random_state=434)\n",
    "    # create and fit the decision model\n",
    "    tree_model = DecisionTreeClassifier(random_state=42)\n",
    "    tree_model.fit(X_train, y_train)\n",
    "    # Create the parameter grid based on the results of random search \n",
    "    params = {\n",
    "    'max_depth': [20, 30, 50, 100],\n",
    "    'min_samples_leaf': [2,5,10,15,20],\n",
    "    'min_samples_split': [2,10,20,30,40],\n",
    "    'splitter' : ['best','random'],\n",
    "    'max_features' : ['sqrt','log2'],\n",
    "    'criterion' : ['gini', 'entropy']\n",
    "    }\n",
    "    # Instantiate the grid search model\n",
    "    grid_search = GridSearchCV(estimator=tree_model, \n",
    "                           param_grid=params, \n",
    "                           cv=3, n_jobs=-1, verbose=1, scoring = \"f1\")\n",
    "    # fit grid  search on training data\n",
    "    grid_search.fit(X_train, y_train)\n",
    "    print(grid_search.best_estimator_)\n",
    "    tree_model_best = grid_search.best_estimator_\n",
    "    # make predictions on the test data after CV\n",
    "    \n",
    "    y_pred = tree_model_best.predict(X_test)\n",
    "                    \n",
    "    accuracy = accuracy_score(y_test, y_pred)\n",
    "    print(f'Accuracy: {accuracy:.2f}')\n",
    "        \n",
    "    print(confusion_matrix(y_test, y_pred), \": is the confusion matrix\")\n",
    "    \n",
    "    print(precision_score(y_test, y_pred), \": is the precision score\")\n",
    "\n",
    "    print(recall_score(y_test, y_pred), \": is the recall score\")\n",
    "\n",
    "    print(f1_score(y_test, y_pred), \": is the f1 score\")\n",
    "    \n",
    "    # precision/recall curve\n",
    "    plot_precision_recall_curve(tree_model_best, X_test, y_test, name = 'Decision Tree with hyperparameter tuning')\n",
    "\n",
    "    '''\n",
    "    # precision/recall curves\n",
    "    #calculate precision and recall\n",
    "    y_score = knn_model.predict_proba(X_test)[:, 1]\n",
    "    precision, recall, thresholds = precision_recall_curve(y_test, y_score)\n",
    "\n",
    "    #create precision recall curve\n",
    "    fig, ax = plt.subplots()\n",
    "    ax.plot(recall, precision, color='blue',label='KNN')\n",
    "\n",
    "    #add axis labels to plot\n",
    "    # ax.set_title('Precision-Recall Curve')\n",
    "    ax.set_ylabel('Precision(Positive label:True)')\n",
    "    ax.set_xlabel('Recall(Positive label:True)')\n",
    "\n",
    "    #display plot\n",
    "    plt.legend()\n",
    "    plt.show()\n",
    "    '''"
   ]
  }
 ],
 "metadata": {
  "kernelspec": {
   "display_name": "base",
   "language": "python",
   "name": "python3"
  },
  "language_info": {
   "codemirror_mode": {
    "name": "ipython",
    "version": 3
   },
   "file_extension": ".py",
   "mimetype": "text/x-python",
   "name": "python",
   "nbconvert_exporter": "python",
   "pygments_lexer": "ipython3",
   "version": "3.8.8"
  },
  "orig_nbformat": 4
 },
 "nbformat": 4,
 "nbformat_minor": 2
}
