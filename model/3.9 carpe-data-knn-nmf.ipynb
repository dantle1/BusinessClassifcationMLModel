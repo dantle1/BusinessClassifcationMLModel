{
 "cells": [
  {
   "attachments": {},
   "cell_type": "markdown",
   "metadata": {},
   "source": [
    "### Import all the packages"
   ]
  },
  {
   "cell_type": "code",
   "execution_count": 1,
   "metadata": {},
   "outputs": [],
   "source": [
    "import pandas as pd\n",
    "import nltk\n",
    "import numpy as np\n",
    "from numpy import random as npr\n",
    "import time\n",
    "import string\n",
    "import sklearn\n",
    "import random\n",
    "# from itertools import chain, imap"
   ]
  },
  {
   "cell_type": "code",
   "execution_count": 2,
   "metadata": {},
   "outputs": [],
   "source": [
    "from sklearn import metrics\n",
    "from sklearn.metrics import auc\n",
    "import matplotlib.pyplot as plt\n",
    "from sklearn.decomposition import NMF"
   ]
  },
  {
   "cell_type": "code",
   "execution_count": 3,
   "metadata": {},
   "outputs": [
    {
     "name": "stderr",
     "output_type": "stream",
     "text": [
      "[nltk_data] Downloading package punkt to /Users/dhmjoe/nltk_data...\n",
      "[nltk_data]   Package punkt is already up-to-date!\n",
      "[nltk_data] Downloading package stopwords to\n",
      "[nltk_data]     /Users/dhmjoe/nltk_data...\n",
      "[nltk_data]   Package stopwords is already up-to-date!\n"
     ]
    },
    {
     "data": {
      "text/plain": [
       "True"
      ]
     },
     "execution_count": 3,
     "metadata": {},
     "output_type": "execute_result"
    }
   ],
   "source": [
    "# download stopwords and punctuations \n",
    "nltk.download('punkt') \n",
    "nltk.download(\"stopwords\")"
   ]
  },
  {
   "cell_type": "code",
   "execution_count": 4,
   "metadata": {},
   "outputs": [],
   "source": [
    "\n",
    "from nltk.tokenize import sent_tokenize, word_tokenize\n",
    "from nltk.corpus import stopwords\n",
    "from nltk.stem import PorterStemmer\n",
    "from nltk.stem import WordNetLemmatizer\n",
    "from sklearn.feature_extraction.text import TfidfVectorizer\n",
    "from sklearn.model_selection import train_test_split\n",
    "from sklearn.naive_bayes import MultinomialNB\n",
    "from sklearn.metrics import accuracy_score\n",
    "import re\n",
    "from sklearn import svm\n",
    "from sklearn.naive_bayes import GaussianNB\n",
    "from sklearn.metrics import confusion_matrix\n",
    "from sklearn.metrics import precision_score\n",
    "from sklearn.metrics import recall_score\n",
    "from sklearn.metrics import f1_score\n",
    "from sklearn.model_selection import GridSearchCV\n",
    "#from operator import itemgetter"
   ]
  },
  {
   "attachments": {},
   "cell_type": "markdown",
   "metadata": {},
   "source": [
    "### Data Processing"
   ]
  },
  {
   "cell_type": "code",
   "execution_count": 5,
   "metadata": {},
   "outputs": [],
   "source": [
    "#Read in data\n",
    "df1 = pd.read_json('/Users/dhmjoe/Desktop/carpe data Haoming/final_50k_221118.json',lines=True)"
   ]
  },
  {
   "cell_type": "code",
   "execution_count": 6,
   "metadata": {},
   "outputs": [],
   "source": [
    "df_shuffled = df1.sample(frac=1, random_state=39)\n",
    "\n",
    "# Reset the index\n",
    "df_shuffled = df_shuffled.reset_index(drop=True)\n",
    "\n",
    "# Select first 30000 rows from the shuffled data set\n",
    "df_30 = df_shuffled[0:30000]\n",
    "\n",
    "# Regroup the df_30 dat set with unique business id\n",
    "df_new = df_30.groupby(df_30[\"awesome_biz_id\"],as_index=False).agg({\"content\":' '.join,\"business_name\":\"first\",\"is_entertainment\":\"first\",\"is_traffic\":\"first\"})\n",
    "\n",
    "# Define the label\n",
    "label = [\"is_entertainment\",\"is_traffic\"]\n",
    "\n",
    "# Extract the labels\n",
    "labeldf = df_new[[\"is_entertainment\",\"is_traffic\"]]\n",
    "\n",
    "# Extract \"business name\" and \"content\" columns\n",
    "df2 = df_new[[\"business_name\",\"content\"]]\n"
   ]
  },
  {
   "cell_type": "code",
   "execution_count": 7,
   "metadata": {},
   "outputs": [],
   "source": [
    "token = []\n",
    "name = [\"business_name\",\"content\"]\n",
    "dic1 = {}\n",
    "WORD = re.compile(r'\\w+')"
   ]
  },
  {
   "attachments": {},
   "cell_type": "markdown",
   "metadata": {},
   "source": [
    "### Tokenize Data"
   ]
  },
  {
   "cell_type": "code",
   "execution_count": 8,
   "metadata": {},
   "outputs": [],
   "source": [
    "def regTokenize(text):\n",
    "    words = WORD.findall(text)\n",
    "    return words"
   ]
  },
  {
   "cell_type": "code",
   "execution_count": 9,
   "metadata": {},
   "outputs": [],
   "source": [
    "for i in [0,1]:\n",
    "    arrx = []\n",
    "    for j in range(0,len(df2)):\n",
    "    #for j in range(0,len(df2[name[i]])):\n",
    "        listx = regTokenize(df2[name[i]][j])\n",
    "        arrx.append(listx)\n",
    "    dic1[name[i]] = arrx\n",
    "# print(dic1)\n",
    "# dic1 contains all the tokens of business name and contents"
   ]
  },
  {
   "attachments": {},
   "cell_type": "markdown",
   "metadata": {},
   "source": [
    "### Stop words"
   ]
  },
  {
   "cell_type": "code",
   "execution_count": 10,
   "metadata": {},
   "outputs": [
    {
     "name": "stdout",
     "output_type": "stream",
     "text": [
      "{'|', 'your', 'before', 'yours', 'such', 'after', 'above', 'our', 'on', 'll', \"haven't\", 'his', 'down', '?', 'her', \"couldn't\", \"weren't\", 'own', \"didn't\", 'do', 'couldn', 'will', 'who', '\\\\', 'were', 'and', 'y', \"hadn't\", 'ma', 'only', 'into', 's', 'hers', 'doesn', 'now', 'then', 'once', 'whom', 'o', 'out', 'won', 'below', 'hasn', 'up', 'me', 'in', 'so', 'to', '\"', 'each', '}', 'why', 'we', 'herself', \"that'll\", 'for', \"aren't\", 'no', \"you're\", '#', 'i', 'being', 'by', 'these', 'against', '/', 'himself', 'when', 'haven', 'you', '.....', 'this', 'further', 'my', ']', 'an', 'him', 'here', '=', 'not', ')', 'at', 'very', 've', '.', 'or', '_', 'if', 'its', 'theirs', \"it's\", 'the', \"wasn't\", 'was', 'those', 'should', '<', 'having', \"should've\", 'with', 'until', 'of', 'there', '`', 'yourselves', '[', 'myself', 'all', 'mustn', '!', 'more', '+', 'isn', 'he', '-', 'few', 'any', 'but', ':', \"she's\", 'just', \"don't\", 'm', \"shan't\", 'hadn', \"wouldn't\", 'which', 'over', \"doesn't\", 'is', 'itself', 'their', 'again', '&', 'are', 'some', 'same', 'off', 'wasn', 'because', \"you'd\", 'been', 'ourselves', 'yourself', 'as', 'through', 'other', 'too', 'has', 'during', 'd', 'aren', \"mightn't\", 'needn', 'that', 'have', 'mightn', \"won't\", 'both', 'about', 'nor', '%', 'from', 'shouldn', 'they', 'where', 'be', 'didn', '@', '~', \"needn't\", \"'\", '*', 't', \"shouldn't\", 'ours', 'don', 'wouldn', 'how', 'most', \"you've\", ';', 'than', 'a', \"'s\", 'it', 'themselves', '$', 'them', \"hasn't\", 'while', 'doing', '>', ',', 'can', 'am', '(', 'what', \"mustn't\", '^', 'under', 'weren', 'does', '{', 'did', \"you'll\", 'between', 'ain', 'she', 'shan', 'had', 're', \"isn't\"}\n"
     ]
    }
   ],
   "source": [
    "stop_words = set(stopwords.words(\"english\"))\n",
    "for i in range(len(string.punctuation)):    \n",
    "    stop_words.add(string.punctuation[i])\n",
    "stop_words.add(\"'s\")\n",
    "stop_words.add(\".....\")\n",
    "print(stop_words)"
   ]
  },
  {
   "attachments": {},
   "cell_type": "markdown",
   "metadata": {},
   "source": [
    "### Word Stemmer"
   ]
  },
  {
   "cell_type": "code",
   "execution_count": 11,
   "metadata": {},
   "outputs": [],
   "source": [
    "stemmer = PorterStemmer()\n",
    "# print(dic1)\n",
    "for i in [0,1]:\n",
    "    arrc = []\n",
    "    for j in range(0,len(dic1[name[i]])):\n",
    "        flist = []\n",
    "        for z in dic1[name[i]][j]:\n",
    "            if z.casefold() not in stop_words:\n",
    "                flist.append(stemmer.stem(z))\n",
    "        arrc.append(' '.join(flist))\n",
    "    dic1[name[i]] = arrc\n",
    "    #print(len(dic1[name[i]]))\n",
    "    \n",
    "# print(dic1)"
   ]
  },
  {
   "attachments": {},
   "cell_type": "markdown",
   "metadata": {},
   "source": [
    "### TF-IDF without NMF (without combining content and business name)"
   ]
  },
  {
   "cell_type": "code",
   "execution_count": 12,
   "metadata": {},
   "outputs": [
    {
     "name": "stdout",
     "output_type": "stream",
     "text": [
      "[        76  aid  american  amigo  ampm  angel  antiqu  applianc  arco  art  \\\n",
      "0      0.0  0.0       0.0    0.0   0.0    0.0     0.0       0.0   0.0  0.0   \n",
      "1      0.0  0.0       0.0    0.0   0.0    0.0     0.0       0.0   0.0  0.0   \n",
      "2      0.0  0.0       0.0    0.0   0.0    0.0     0.0       0.0   0.0  0.0   \n",
      "3      0.0  0.0       0.0    0.0   0.0    0.0     0.0       0.0   0.0  0.0   \n",
      "4      0.0  0.0       0.0    0.0   0.0    0.0     0.0       0.0   0.0  0.0   \n",
      "...    ...  ...       ...    ...   ...    ...     ...       ...   ...  ...   \n",
      "18719  0.0  0.0       0.0    0.0   0.0    0.0     0.0       0.0   0.0  0.0   \n",
      "18720  0.0  0.0       0.0    0.0   0.0    0.0     0.0       0.0   0.0  0.0   \n",
      "18721  0.0  0.0       0.0    0.0   0.0    0.0     0.0       0.0   0.0  0.0   \n",
      "18722  0.0  0.0       0.0    0.0   0.0    0.0     0.0       0.0   0.0  0.0   \n",
      "18723  0.0  0.0       0.0    0.0   0.0    0.0     0.0       0.0   0.0  0.0   \n",
      "\n",
      "       ...  west  wetzel  wholesal  wild  wine  wineri  wing  world  yogurt  \\\n",
      "0      ...   0.0     0.0       0.0   0.0   0.0     0.0   0.0    0.0     0.0   \n",
      "1      ...   0.0     0.0       0.0   0.0   0.0     0.0   0.0    0.0     0.0   \n",
      "2      ...   0.0     0.0       0.0   0.0   0.0     0.0   0.0    0.0     0.0   \n",
      "3      ...   0.0     0.0       0.0   0.0   0.0     0.0   0.0    0.0     0.0   \n",
      "4      ...   0.0     0.0       0.0   0.0   0.0     0.0   0.0    0.0     0.0   \n",
      "...    ...   ...     ...       ...   ...   ...     ...   ...    ...     ...   \n",
      "18719  ...   0.0     0.0       0.0   0.0   0.0     0.0   0.0    0.0     0.0   \n",
      "18720  ...   0.0     0.0       0.0   0.0   0.0     0.0   0.0    0.0     0.0   \n",
      "18721  ...   0.0     0.0       0.0   0.0   0.0     0.0   0.0    0.0     0.0   \n",
      "18722  ...   0.0     0.0       0.0   0.0   0.0     0.0   0.0    0.0     0.0   \n",
      "18723  ...   0.0     0.0       0.0   0.0   0.0     0.0   0.0    0.0     0.0   \n",
      "\n",
      "       zone  \n",
      "0       0.0  \n",
      "1       0.0  \n",
      "2       0.0  \n",
      "3       0.0  \n",
      "4       0.0  \n",
      "...     ...  \n",
      "18719   0.0  \n",
      "18720   0.0  \n",
      "18721   0.0  \n",
      "18722   0.0  \n",
      "18723   0.0  \n",
      "\n",
      "[18724 rows x 368 columns]]\n",
      "[        76  aid  american  amigo  ampm  angel  antiqu  applianc  arco  art  \\\n",
      "0      0.0  0.0       0.0    0.0   0.0    0.0     0.0       0.0   0.0  0.0   \n",
      "1      0.0  0.0       0.0    0.0   0.0    0.0     0.0       0.0   0.0  0.0   \n",
      "2      0.0  0.0       0.0    0.0   0.0    0.0     0.0       0.0   0.0  0.0   \n",
      "3      0.0  0.0       0.0    0.0   0.0    0.0     0.0       0.0   0.0  0.0   \n",
      "4      0.0  0.0       0.0    0.0   0.0    0.0     0.0       0.0   0.0  0.0   \n",
      "...    ...  ...       ...    ...   ...    ...     ...       ...   ...  ...   \n",
      "18719  0.0  0.0       0.0    0.0   0.0    0.0     0.0       0.0   0.0  0.0   \n",
      "18720  0.0  0.0       0.0    0.0   0.0    0.0     0.0       0.0   0.0  0.0   \n",
      "18721  0.0  0.0       0.0    0.0   0.0    0.0     0.0       0.0   0.0  0.0   \n",
      "18722  0.0  0.0       0.0    0.0   0.0    0.0     0.0       0.0   0.0  0.0   \n",
      "18723  0.0  0.0       0.0    0.0   0.0    0.0     0.0       0.0   0.0  0.0   \n",
      "\n",
      "       ...  west  wetzel  wholesal  wild  wine  wineri  wing  world  yogurt  \\\n",
      "0      ...   0.0     0.0       0.0   0.0   0.0     0.0   0.0    0.0     0.0   \n",
      "1      ...   0.0     0.0       0.0   0.0   0.0     0.0   0.0    0.0     0.0   \n",
      "2      ...   0.0     0.0       0.0   0.0   0.0     0.0   0.0    0.0     0.0   \n",
      "3      ...   0.0     0.0       0.0   0.0   0.0     0.0   0.0    0.0     0.0   \n",
      "4      ...   0.0     0.0       0.0   0.0   0.0     0.0   0.0    0.0     0.0   \n",
      "...    ...   ...     ...       ...   ...   ...     ...   ...    ...     ...   \n",
      "18719  ...   0.0     0.0       0.0   0.0   0.0     0.0   0.0    0.0     0.0   \n",
      "18720  ...   0.0     0.0       0.0   0.0   0.0     0.0   0.0    0.0     0.0   \n",
      "18721  ...   0.0     0.0       0.0   0.0   0.0     0.0   0.0    0.0     0.0   \n",
      "18722  ...   0.0     0.0       0.0   0.0   0.0     0.0   0.0    0.0     0.0   \n",
      "18723  ...   0.0     0.0       0.0   0.0   0.0     0.0   0.0    0.0     0.0   \n",
      "\n",
      "       zone  \n",
      "0       0.0  \n",
      "1       0.0  \n",
      "2       0.0  \n",
      "3       0.0  \n",
      "4       0.0  \n",
      "...     ...  \n",
      "18719   0.0  \n",
      "18720   0.0  \n",
      "18721   0.0  \n",
      "18722   0.0  \n",
      "18723   0.0  \n",
      "\n",
      "[18724 rows x 368 columns],         00  000   10  100  1000  101  10am  10pm   11  11am  ...   yo  yogurt  \\\n",
      "0      0.0  0.0  0.0  0.0   0.0  0.0   0.0   0.0  0.0   0.0  ...  0.0     0.0   \n",
      "1      0.0  0.0  0.0  0.0   0.0  0.0   0.0   0.0  0.0   0.0  ...  0.0     0.0   \n",
      "2      0.0  0.0  0.0  0.0   0.0  0.0   0.0   0.0  0.0   0.0  ...  0.0     0.0   \n",
      "3      0.0  0.0  0.0  0.0   0.0  0.0   0.0   0.0  0.0   0.0  ...  0.0     0.0   \n",
      "4      0.0  0.0  0.0  0.0   0.0  0.0   0.0   0.0  0.0   0.0  ...  0.0     0.0   \n",
      "...    ...  ...  ...  ...   ...  ...   ...   ...  ...   ...  ...  ...     ...   \n",
      "18719  0.0  0.0  0.0  0.0   0.0  0.0   0.0   0.0  0.0   0.0  ...  0.0     0.0   \n",
      "18720  0.0  0.0  0.0  0.0   0.0  0.0   0.0   0.0  0.0   0.0  ...  0.0     0.0   \n",
      "18721  0.0  0.0  0.0  0.0   0.0  0.0   0.0   0.0  0.0   0.0  ...  0.0     0.0   \n",
      "18722  0.0  0.0  0.0  0.0   0.0  0.0   0.0   0.0  0.0   0.0  ...  0.0     0.0   \n",
      "18723  0.0  0.0  0.0  0.0   0.0  0.0   0.0   0.0  0.0   0.0  ...  0.0     0.0   \n",
      "\n",
      "       york  young   younger   yr  yum  yummi      zero  zone  \n",
      "0       0.0    0.0  0.000000  0.0  0.0    0.0  0.000000   0.0  \n",
      "1       0.0    0.0  0.000000  0.0  0.0    0.0  0.000000   0.0  \n",
      "2       0.0    0.0  0.000000  0.0  0.0    0.0  0.000000   0.0  \n",
      "3       0.0    0.0  0.000000  0.0  0.0    0.0  0.000000   0.0  \n",
      "4       0.0    0.0  0.000000  0.0  0.0    0.0  0.000000   0.0  \n",
      "...     ...    ...       ...  ...  ...    ...       ...   ...  \n",
      "18719   0.0    0.0  0.000000  0.0  0.0    0.0  0.000000   0.0  \n",
      "18720   0.0    0.0  0.000000  0.0  0.0    0.0  0.095956   0.0  \n",
      "18721   0.0    0.0  0.116839  0.0  0.0    0.0  0.000000   0.0  \n",
      "18722   0.0    0.0  0.000000  0.0  0.0    0.0  0.000000   0.0  \n",
      "18723   0.0    0.0  0.000000  0.0  0.0    0.0  0.000000   0.0  \n",
      "\n",
      "[18724 rows x 3284 columns]]\n"
     ]
    }
   ],
   "source": [
    "tflist = []\n",
    "for i in [0,1]:\n",
    "    tr_idf_model  = TfidfVectorizer(min_df=0.001)\n",
    "    corpus = dic1[name[i]]\n",
    "    tf_idf_vector = tr_idf_model.fit_transform(corpus)\n",
    "    tf_idf_array = tf_idf_vector.toarray()\n",
    "    words_set = tr_idf_model.get_feature_names_out()\n",
    "    #print(words_set)\n",
    "    df_tf_idf= pd.DataFrame(tf_idf_array, columns = words_set)\n",
    "    tflist.append(df_tf_idf)\n",
    "    #This is the tf-idf result that we can use for SVM or Simple Bayes\n",
    "    # print(df_tf_idf)\n",
    "    # print(labeldf[label[i]])\n",
    "    print(tflist)\n",
    "    \n",
    "    \n",
    "    '''\n",
    "    #tfidf = []\n",
    "    tfidf = [(j,sum(df_tf_idf[j])) for j in words_set]\n",
    "    tfidf.sort(key=lambda x: x[1],reverse=True)\n",
    "    print(name[i],tfidf)\n",
    "    end = time.time()\n",
    "    print(name[i],end-now)\n",
    "    now = end'''"
   ]
  },
  {
   "attachments": {},
   "cell_type": "markdown",
   "metadata": {},
   "source": [
    "### TF-IDF with NMF (combining content and business name)"
   ]
  },
  {
   "cell_type": "code",
   "execution_count": 13,
   "metadata": {},
   "outputs": [
    {
     "name": "stderr",
     "output_type": "stream",
     "text": [
      "/opt/anaconda3/lib/python3.8/site-packages/sklearn/decomposition/_nmf.py:289: FutureWarning: The 'init' value, when 'init=None' and n_components is less than n_samples and n_features, will be changed from 'nndsvd' to 'nndsvda' in 1.1 (renaming of 0.26).\n",
      "  warnings.warn(\n"
     ]
    },
    {
     "data": {
      "text/plain": [
       "'\\ntopic_term_matrix = nmf.components_\\nnum_top_terms = 10\\nfeature_names = tf_idf_model.get_feature_names_out()\\nfor topic_idx, topic in enumerate(topic_term_matrix):\\n    print(\"Topic #%d:\" % topic_idx)\\n    print(\" \".join([feature_names[i] for i in topic.argsort()[:-num_top_terms - 1:-1]]))\\n    print()\\n# Create a dataframe from the document-topic matrix\\n'"
      ]
     },
     "execution_count": 13,
     "metadata": {},
     "output_type": "execute_result"
    }
   ],
   "source": [
    "tf_idf_model  = TfidfVectorizer(min_df=0.001)\n",
    "#print(tf_idf_model.get_feature_names_out())\n",
    "bustf = dic1[\"business_name\"]\n",
    "tf_idf_vector1 = tf_idf_model.fit_transform(bustf)\n",
    "tf_idf_array1 = tf_idf_vector1.toarray()\n",
    "#print(tf_idf_model.get_feature_names_out())\n",
    "contf = dic1[\"content\"]\n",
    "tf_idf_vector2 = tf_idf_model.fit_transform(contf)\n",
    "tf_idf_array2 = tf_idf_vector2.toarray()\n",
    "#words_set = tf_idf_model.get_feature_names_out()\n",
    "#print(words_set)\n",
    "# TF-IDF without NMF\n",
    "X = np.hstack((tf_idf_array1,tf_idf_array2))\n",
    "df_wt_nmf = X\n",
    "# print(df_wt_nmf)\n",
    "\n",
    "# TF-IDF with NMF\n",
    "num_topics = 3\n",
    "nmf = NMF(n_components=num_topics)\n",
    "nmf.fit(X)\n",
    "doc_topic_matrix = nmf.transform(X)\n",
    "dfnmf = pd.DataFrame(doc_topic_matrix)\n",
    "# print(dfnmf)\n",
    "\n",
    "'''\n",
    "topic_term_matrix = nmf.components_\n",
    "num_top_terms = 10\n",
    "feature_names = tf_idf_model.get_feature_names_out()\n",
    "for topic_idx, topic in enumerate(topic_term_matrix):\n",
    "    print(\"Topic #%d:\" % topic_idx)\n",
    "    print(\" \".join([feature_names[i] for i in topic.argsort()[:-num_top_terms - 1:-1]]))\n",
    "    print()\n",
    "# Create a dataframe from the document-topic matrix\n",
    "'''\n"
   ]
  },
  {
   "attachments": {},
   "cell_type": "markdown",
   "metadata": {},
   "source": [
    "### KNN Model (without NMF)"
   ]
  },
  {
   "cell_type": "code",
   "execution_count": 18,
   "metadata": {},
   "outputs": [
    {
     "name": "stdout",
     "output_type": "stream",
     "text": [
      "is_entertainment\n",
      "Accuracy: 0.90\n",
      "[[3219   14]\n",
      " [ 358  154]] : is the confusion matrix\n",
      "is_traffic\n",
      "Accuracy: 0.83\n",
      "[[  89  591]\n",
      " [  36 3029]] : is the confusion matrix\n"
     ]
    }
   ],
   "source": [
    "from sklearn.neighbors import KNeighborsClassifier\n",
    "\n",
    "npr.seed(123)\n",
    "\n",
    "for j in [0,1]:\n",
    "    print(label[j])\n",
    "    X_train, X_test, y_train, y_test = train_test_split(df_wt_nmf, labeldf[label[j]], test_size=0.2, random_state=434)\n",
    "        # create and fit the KNN model\n",
    "    knn_model = KNeighborsClassifier(n_neighbors=141)\n",
    "    knn_model.fit(X_train, y_train)\n",
    "\n",
    "        # make predictions on the test data\n",
    "    y_pred = knn_model.predict(X_test)\n",
    "        \n",
    "                \n",
    "    accuracy = accuracy_score(y_test, y_pred)\n",
    "    print(f'Accuracy: {accuracy:.2f}')\n",
    "        \n",
    "    print(confusion_matrix(y_test, y_pred), \": is the confusion matrix\")\n",
    "        "
   ]
  },
  {
   "attachments": {},
   "cell_type": "markdown",
   "metadata": {},
   "source": [
    "### Cross Validation to select the best k (with nmf)"
   ]
  },
  {
   "cell_type": "code",
   "execution_count": 31,
   "metadata": {},
   "outputs": [
    {
     "data": {
      "text/plain": [
       "<Figure size 640x480 with 0 Axes>"
      ]
     },
     "metadata": {},
     "output_type": "display_data"
    },
    {
     "data": {
      "image/png": "[encoded data removed]",
      "text/plain": [
       "<Figure size 640x480 with 1 Axes>"
      ]
     },
     "metadata": {},
     "output_type": "display_data"
    }
   ],
   "source": [
    "from sklearn.neighbors import KNeighborsClassifier\n",
    "from sklearn.model_selection import cross_val_score\n",
    "\n",
    "npr.seed(123)\n",
    "X_train_en, X_test_en, y_train_en, y_test_en = train_test_split(dfnmf, labeldf[label[0]], test_size=0.2, random_state=434)\n",
    "X_train_tr, X_test_tr, y_train_tr, y_test_tr = train_test_split(dfnmf, labeldf[label[1]], test_size=0.2, random_state=434)\n",
    "\n",
    "k_values = np.arange(1, 215)\n",
    "\n",
    "# 10 folds cross validation\n",
    "cross_validation_fold = 10\n",
    "accuracies_en = []\n",
    "accuracies_tr = []\n",
    "\n",
    "## Cross Validation for is_entertainment\n",
    "for k in k_values:\n",
    "    # instantiate kNN with given neighbor size k\n",
    "    knn = KNeighborsClassifier(n_neighbors=k)\n",
    "    # run cross validation for a given kNN setup\n",
    "    # I have setup n_jobs=-1 to use all cpus in my env.\n",
    "    scores = cross_val_score(knn, X_train_en, y_train_en, cv=cross_validation_fold, scoring='accuracy', n_jobs=-1)\n",
    "    accuracies_en.append(scores.mean())\n",
    "# print(accuracies_en)\n",
    "\n",
    "for k in k_values:\n",
    "    # instantiate kNN with given neighbor size k\n",
    "    knn = KNeighborsClassifier(n_neighbors=k)\n",
    "    # run cross validation for a given kNN setup\n",
    "    # I have setup n_jobs=-1 to use all cpus in my env.\n",
    "    scores = cross_val_score(knn, X_train_tr, y_train_tr, cv=cross_validation_fold, scoring='accuracy', n_jobs=-1)\n",
    "    accuracies_tr.append(scores.mean())\n",
    "# print(accuracies_tr)\n",
    "\n",
    "fig_en = plt.figure()\n",
    "fig_tr = plt.figure()\n",
    "plt.plot(k_values, accuracies_en)\n",
    "plt.plot(k_values, accuracies_tr)\n",
    "plt.xlabel('k in kNN')\n",
    "plt.ylabel('CV-Accuracy')\n",
    "plt.legend(['is_entertainment','is_traffic'])\n",
    "plt.title('kNN hyperparameter (k) tuning with sklearn')\n",
    "plt.show()\n",
    "\n",
    "best_k=[accuracies_en.index(max(accuracies_en)),accuracies_tr.index(max(accuracies_tr))]\n",
    "# print(accuracies_tr.index(max(accuracies_tr)))\n",
    "# print(accuracies_en.index(max(accuracies_en)))\n",
    "# print(max(accuracies_tr))\n",
    "# print(max(accuracies_en))\n"
   ]
  },
  {
   "attachments": {},
   "cell_type": "markdown",
   "metadata": {},
   "source": [
    "### KNN Model (with NMF)"
   ]
  },
  {
   "cell_type": "code",
   "execution_count": 33,
   "metadata": {},
   "outputs": [
    {
     "name": "stdout",
     "output_type": "stream",
     "text": [
      "is_entertainment\n",
      "Accuracy: 0.87\n",
      "[[3224    9]\n",
      " [ 476   36]] : is the confusion matrix\n",
      "is_traffic\n",
      "Accuracy: 0.82\n",
      "[[  48  632]\n",
      " [  39 3026]] : is the confusion matrix\n"
     ]
    }
   ],
   "source": [
    "from sklearn.neighbors import KNeighborsClassifier\n",
    "\n",
    "npr.seed(123)\n",
    "\n",
    "for j in [0,1]:\n",
    "    print(label[j])\n",
    "    X_train, X_test, y_train, y_test = train_test_split(dfnmf, labeldf[label[j]], test_size=0.2, random_state=434)\n",
    "        # create and fit the KNN model\n",
    "    knn_model = KNeighborsClassifier(n_neighbors=best_k[j])\n",
    "    knn_model.fit(X_train, y_train)\n",
    "\n",
    "        # make predictions on the test data\n",
    "    y_pred = knn_model.predict(X_test)\n",
    "        \n",
    "                \n",
    "    accuracy = accuracy_score(y_test, y_pred)\n",
    "    print(f'Accuracy: {accuracy:.2f}')\n",
    "        \n",
    "    print(confusion_matrix(y_test, y_pred), \": is the confusion matrix\")"
   ]
  }
 ],
 "metadata": {
  "kernelspec": {
   "display_name": "base",
   "language": "python",
   "name": "python3"
  },
  "language_info": {
   "codemirror_mode": {
    "name": "ipython",
    "version": 3
   },
   "file_extension": ".py",
   "mimetype": "text/x-python",
   "name": "python",
   "nbconvert_exporter": "python",
   "pygments_lexer": "ipython3",
   "version": "3.8.13"
  },
  "orig_nbformat": 4,
  "vscode": {
   "interpreter": {
    "hash": "40d3a090f54c6569ab1632332b64b2c03c39dcf918b08424e98f38b5ae0af88f"
   }
  }
 },
 "nbformat": 4,
 "nbformat_minor": 2
}
