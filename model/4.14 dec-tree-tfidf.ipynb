{
 "cells": [
  {
   "cell_type": "code",
   "execution_count": 1,
   "metadata": {},
   "outputs": [],
   "source": [
    "import pandas as pd\n",
    "import nltk\n",
    "import numpy as np\n",
    "from numpy import random as npr\n",
    "import time\n",
    "import string\n",
    "import sklearn\n",
    "#from itertools import chain, imap\n",
    "#nltk.download('punkt')\n",
    "#nltk.download(\"stopwords\")\n",
    "from nltk.tokenize import sent_tokenize, word_tokenize\n",
    "from nltk.corpus import stopwords\n",
    "from nltk.stem import PorterStemmer\n",
    "from nltk.stem import WordNetLemmatizer\n",
    "from sklearn.feature_extraction.text import TfidfVectorizer\n",
    "from sklearn.model_selection import train_test_split\n",
    "from sklearn.naive_bayes import MultinomialNB\n",
    "from sklearn.metrics import accuracy_score\n",
    "import re\n",
    "from sklearn import svm\n",
    "from sklearn.naive_bayes import GaussianNB\n",
    "from sklearn.metrics import confusion_matrix\n",
    "from sklearn.metrics import precision_score\n",
    "from sklearn.metrics import recall_score\n",
    "from sklearn.metrics import f1_score\n",
    "from sklearn.model_selection import GridSearchCV\n",
    "from sklearn.metrics import roc_auc_score\n",
    "from sklearn.metrics import roc_curve\n",
    "from sklearn.metrics import auc\n",
    "import matplotlib.pyplot as plt\n",
    "from sklearn.decomposition import NMF\n",
    "from sklearn.tree import DecisionTreeClassifier"
   ]
  },
  {
   "cell_type": "code",
   "execution_count": 2,
   "metadata": {},
   "outputs": [],
   "source": [
    "df1 = pd.read_json('final_50k_221118.json', lines=True)"
   ]
  },
  {
   "cell_type": "code",
   "execution_count": 3,
   "metadata": {},
   "outputs": [],
   "source": [
    "df_shuffled = df1.sample(frac=1, random_state=39)\n",
    "\n",
    "# Reset the index\n",
    "df_shuffled = df_shuffled.reset_index(drop=True)\n",
    "\n",
    "df2 = df_shuffled[0:30000]\n",
    "\n",
    "df3 = df2.groupby(df2[\"awesome_biz_id\"],as_index=False).agg({\"content\":' '.join,\"business_name\":\"first\",\"is_entertainment\":\"first\",\"is_traffic\":\"first\"})\n"
   ]
  },
  {
   "cell_type": "code",
   "execution_count": 4,
   "metadata": {},
   "outputs": [
    {
     "name": "stdout",
     "output_type": "stream",
     "text": [
      "df3       awesome_biz_id                                            content  \\\n",
      "0         biz_000003  They do not make authentic Italian calzones. O...   \n",
      "1         biz_000005  They are scammers!!! DO NOT BUY PRODUCTS FROM ...   \n",
      "2         biz_000009  Just opened the paper bag to find a burnt croi...   \n",
      "3         biz_000014  Needed a quick car wash!!! In the sign $4.19 i...   \n",
      "4         biz_000020  This service is convenient, easy, and fast. Li...   \n",
      "...              ...                                                ...   \n",
      "18719     biz_049988  Vonsland! I swear, THIS IS ACTUALLY A SMALL TO...   \n",
      "18720     biz_049993  This is a fun place to relax, create a paintin...   \n",
      "18721     biz_049994  3 stars for food and service. I have a friend ...   \n",
      "18722     biz_049995  It's wasn't bad as all. It's very slow and eve...   \n",
      "18723     biz_049999  Great selection.. lots of high end options.. b...   \n",
      "\n",
      "                    business_name  is_entertainment  is_traffic  \n",
      "0                         Calzone             False        True  \n",
      "1               cheebapotshop.com              True        True  \n",
      "2                 Perk Coffee Bar             False        True  \n",
      "3                 MB KAZMO OIL CO             False        True  \n",
      "4                  Wash-N-Deliver             False        True  \n",
      "...                           ...               ...         ...  \n",
      "18719         Lucky Liquor Market             False       False  \n",
      "18720             Pinot's Palette             False       False  \n",
      "18721                    Diem Hen             False       False  \n",
      "18722        Empire Hookah Lounge              True       False  \n",
      "18723  Minute Shops Liquor & Deli              True       False  \n",
      "\n",
      "[18724 rows x 5 columns]\n"
     ]
    }
   ],
   "source": [
    "print(\"df3\",df3)\n"
   ]
  },
  {
   "cell_type": "code",
   "execution_count": 4,
   "metadata": {},
   "outputs": [
    {
     "name": "stdout",
     "output_type": "stream",
     "text": [
      "       is_entertainment  is_traffic\n",
      "0                 False        True\n",
      "1                  True        True\n",
      "2                 False        True\n",
      "3                 False        True\n",
      "4                 False        True\n",
      "...                 ...         ...\n",
      "18719             False       False\n",
      "18720             False       False\n",
      "18721             False       False\n",
      "18722              True       False\n",
      "18723              True       False\n",
      "\n",
      "[18724 rows x 2 columns]\n"
     ]
    }
   ],
   "source": [
    "label = [\"is_entertainment\",\"is_traffic\"]\n",
    "labeldf = df3[[\"is_entertainment\",\"is_traffic\"]]\n",
    "print(labeldf)"
   ]
  },
  {
   "cell_type": "code",
   "execution_count": 6,
   "metadata": {},
   "outputs": [
    {
     "name": "stdout",
     "output_type": "stream",
     "text": [
      "                    business_name  \\\n",
      "0                         Calzone   \n",
      "1               cheebapotshop.com   \n",
      "2                 Perk Coffee Bar   \n",
      "3                 MB KAZMO OIL CO   \n",
      "4                  Wash-N-Deliver   \n",
      "...                           ...   \n",
      "18719         Lucky Liquor Market   \n",
      "18720             Pinot's Palette   \n",
      "18721                    Diem Hen   \n",
      "18722        Empire Hookah Lounge   \n",
      "18723  Minute Shops Liquor & Deli   \n",
      "\n",
      "                                                 content  \n",
      "0      They do not make authentic Italian calzones. O...  \n",
      "1      They are scammers!!! DO NOT BUY PRODUCTS FROM ...  \n",
      "2      Just opened the paper bag to find a burnt croi...  \n",
      "3      Needed a quick car wash!!! In the sign $4.19 i...  \n",
      "4      This service is convenient, easy, and fast. Li...  \n",
      "...                                                  ...  \n",
      "18719  Vonsland! I swear, THIS IS ACTUALLY A SMALL TO...  \n",
      "18720  This is a fun place to relax, create a paintin...  \n",
      "18721  3 stars for food and service. I have a friend ...  \n",
      "18722  It's wasn't bad as all. It's very slow and eve...  \n",
      "18723  Great selection.. lots of high end options.. b...  \n",
      "\n",
      "[18724 rows x 2 columns]\n"
     ]
    }
   ],
   "source": [
    "df4 = df3[[\"business_name\",\"content\"]]\n",
    "print(df4)"
   ]
  },
  {
   "cell_type": "code",
   "execution_count": 7,
   "metadata": {},
   "outputs": [],
   "source": [
    "token = []\n",
    "name = [\"business_name\",\"content\"]\n",
    "dic1 = {}\n",
    "WORD = re.compile(r'\\w+')\n",
    "def regTokenize(text):\n",
    "    words = WORD.findall(text)\n",
    "    return words\n",
    "for i in [0,1]:\n",
    "    arrx = []\n",
    "    for j in range(0,len(df4[name[i]])):\n",
    "        listx = regTokenize(df4[name[i]][j])\n",
    "        arrx.append(listx)\n",
    "    dic1[name[i]] = arrx"
   ]
  },
  {
   "cell_type": "code",
   "execution_count": 8,
   "metadata": {},
   "outputs": [],
   "source": [
    "stop_words = set(stopwords.words(\"english\"))\n",
    "for i in range(len(string.punctuation)):    \n",
    "    stop_words.add(string.punctuation[i])\n",
    "stop_words.add(\"'s\")\n",
    "stop_words.add(\".....\")"
   ]
  },
  {
   "cell_type": "code",
   "execution_count": 9,
   "metadata": {},
   "outputs": [],
   "source": [
    "stemmer = PorterStemmer()\n",
    "#print(dic1)\n",
    "for i in [0,1]:\n",
    "    arrc = []\n",
    "    for j in range(0,len(dic1[name[i]])):\n",
    "        flist = []\n",
    "        for z in dic1[name[i]][j]:\n",
    "            if z.casefold() not in stop_words:\n",
    "                flist.append(stemmer.stem(z))\n",
    "        arrc.append(\" \".join(flist))\n",
    "    dic1[name[i]] = arrc"
   ]
  },
  {
   "cell_type": "code",
   "execution_count": 10,
   "metadata": {},
   "outputs": [],
   "source": [
    "tf_idf_model  = TfidfVectorizer(min_df=0.001)\n",
    "#print(tf_idf_model.get_feature_names_out())\n",
    "bustf = dic1[\"business_name\"]\n",
    "tf_idf_vector1 = tf_idf_model.fit_transform(bustf)\n",
    "tf_idf_array1 = tf_idf_vector1.toarray()\n",
    "#print(tf_idf_model.get_feature_names_out())\n",
    "contf = dic1[\"content\"]\n",
    "tf_idf_vector2 = tf_idf_model.fit_transform(contf)\n",
    "tf_idf_array2 = tf_idf_vector2.toarray()"
   ]
  },
  {
   "cell_type": "code",
   "execution_count": 11,
   "metadata": {},
   "outputs": [
    {
     "name": "stdout",
     "output_type": "stream",
     "text": [
      "(18724, 3652)\n"
     ]
    }
   ],
   "source": [
    "X = np.hstack((tf_idf_array1,tf_idf_array2))\n",
    "print(X.shape)"
   ]
  },
  {
   "cell_type": "code",
   "execution_count": 16,
   "metadata": {},
   "outputs": [
    {
     "name": "stdout",
     "output_type": "stream",
     "text": [
      "0.8626665083797407\n"
     ]
    }
   ],
   "source": [
    "# SVD dimension reduction\n",
    "from sklearn.decomposition import TruncatedSVD\n",
    "svd = TruncatedSVD(n_components=1300)\n",
    "X_svd = svd.fit(X)\n",
    "var_explained = svd.explained_variance_ratio_.sum()\n",
    "print(var_explained)"
   ]
  },
  {
   "cell_type": "code",
   "execution_count": 14,
   "metadata": {},
   "outputs": [],
   "source": [
    "svd_var_ratios = svd.explained_variance_ratio_"
   ]
  },
  {
   "cell_type": "code",
   "execution_count": 15,
   "metadata": {},
   "outputs": [],
   "source": [
    "# Create a function\n",
    "def select_n_components(var_ratio, goal_var: float) -> int:\n",
    "    # Set initial variance explained so far\n",
    "    total_variance = 0.0\n",
    "    \n",
    "    # Set initial number of features\n",
    "    n_components = 0\n",
    "    \n",
    "    # For the explained variance of each feature:\n",
    "    for explained_variance in var_ratio:\n",
    "        \n",
    "        # Add the explained variance to the total\n",
    "        total_variance += explained_variance\n",
    "        \n",
    "        # Add one to the number of components\n",
    "        n_components += 1\n",
    "        \n",
    "        # If we reach our goal level of explained variance\n",
    "        if total_variance >= goal_var:\n",
    "            # End the loop\n",
    "            break\n",
    "            \n",
    "    # Return the number of components\n",
    "    return n_components"
   ]
  },
  {
   "cell_type": "code",
   "execution_count": null,
   "metadata": {},
   "outputs": [],
   "source": []
  },
  {
   "cell_type": "code",
   "execution_count": 16,
   "metadata": {},
   "outputs": [
    {
     "data": {
      "text/plain": [
       "2193"
      ]
     },
     "execution_count": 16,
     "metadata": {},
     "output_type": "execute_result"
    }
   ],
   "source": [
    "select_n_components(svd_var_ratios, 0.90)"
   ]
  },
  {
   "cell_type": "code",
   "execution_count": null,
   "metadata": {},
   "outputs": [],
   "source": [
    "fig, ax = plt.subplots(figsize=(8,6))\n",
    "x_values = range(1, X_svd.n_components_+1)\n",
    "\n",
    "ax.plot(x_values, X_svd.explained_variance_ratio_, lw=2, label='explained variance')\n",
    "ax.plot(x_values, np.cumsum(X_svd.explained_variance_ratio_), lw=2, label='cumulative explained variance')\n",
    "ax.set_title('PCA with TFList : explained variance of components')\n",
    "ax.set_xlabel('principal component')\n",
    "ax.set_ylabel('explained variance')\n",
    "plt.show()"
   ]
  },
  {
   "cell_type": "code",
   "execution_count": 11,
   "metadata": {},
   "outputs": [],
   "source": [
    "num_topics = 37\n",
    "nmf = NMF(n_components=num_topics)\n",
    "nmf.fit(X)\n",
    "doc_topic_matrix = nmf.transform(X)\n",
    "topic_term_matrix = nmf.components_\n",
    "\n",
    "num_top_terms = 10\n",
    "feature_names = tf_idf_model.get_feature_names_out()\n",
    "# for topic_idx, topic in enumerate(topic_term_matrix):\n",
    "#     print(\"Topic #%d:\" % topic_idx)\n",
    "#     print(\" \".join([feature_names[i] for i in topic.argsort()[:-num_top_terms - 1:-1]]))\n",
    "#     print()"
   ]
  },
  {
   "cell_type": "code",
   "execution_count": 22,
   "metadata": {},
   "outputs": [
    {
     "name": "stdout",
     "output_type": "stream",
     "text": [
      "             0         1         2         3         4         5         6   \\\n",
      "0      0.007077  0.000000  0.000000  0.000000  0.000000  0.000000  0.000000   \n",
      "1      0.015696  0.000000  0.001932  0.002958  0.001517  0.000147  0.000474   \n",
      "2      0.000000  0.000000  0.000000  0.000000  0.000000  0.000000  0.000000   \n",
      "3      0.002921  0.000000  0.000321  0.000603  0.009060  0.000277  0.000000   \n",
      "4      0.003116  0.000000  0.000000  0.000117  0.002150  0.000000  0.000000   \n",
      "...         ...       ...       ...       ...       ...       ...       ...   \n",
      "18719  0.002438  0.090769  0.000000  0.000000  0.000000  0.093930  0.000329   \n",
      "18720  0.011510  0.002112  0.000409  0.000327  0.000000  0.001122  0.000194   \n",
      "18721  0.018683  0.000658  0.000684  0.000179  0.000309  0.000429  0.000000   \n",
      "18722  0.016380  0.000029  0.000041  0.000000  0.000188  0.000000  0.000239   \n",
      "18723  0.002305  0.108404  0.000000  0.000000  0.000000  0.001718  0.067462   \n",
      "\n",
      "             7         8         9   ...        27        28        29  \\\n",
      "0      0.000000  0.000000  0.000576  ...  0.000000  0.000000  0.000130   \n",
      "1      0.001949  0.000000  0.000000  ...  0.000000  0.001034  0.000000   \n",
      "2      0.000000  0.080211  0.000000  ...  0.000000  0.000000  0.000000   \n",
      "3      0.011788  0.000000  0.000000  ...  0.000000  0.000276  0.000000   \n",
      "4      0.003931  0.000000  0.000000  ...  0.000000  0.000000  0.000000   \n",
      "...         ...       ...       ...  ...       ...       ...       ...   \n",
      "18719  0.000000  0.000000  0.000000  ...  0.000000  0.000000  0.001309   \n",
      "18720  0.000038  0.002397  0.000000  ...  0.000000  0.001061  0.000470   \n",
      "18721  0.000645  0.001630  0.001245  ...  0.001604  0.001562  0.001247   \n",
      "18722  0.000000  0.000000  0.000000  ...  0.000000  0.001484  0.000000   \n",
      "18723  0.000000  0.000000  0.000582  ...  0.000000  0.000000  0.000000   \n",
      "\n",
      "             30        31        32        33        34        35        36  \n",
      "0      0.000416  0.000037  0.000000  0.000000  0.000000  0.000000  0.000000  \n",
      "1      0.000000  0.000000  0.000000  0.000000  0.006442  0.000829  0.020440  \n",
      "2      0.000000  0.000000  0.000000  0.000000  0.000000  0.000000  0.000000  \n",
      "3      0.000000  0.001530  0.000000  0.007991  0.000906  0.015843  0.000000  \n",
      "4      0.000000  0.000000  0.000000  0.016502  0.000239  0.000620  0.017308  \n",
      "...         ...       ...       ...       ...       ...       ...       ...  \n",
      "18719  0.000000  0.000000  0.000000  0.000000  0.000000  0.000000  0.000000  \n",
      "18720  0.000000  0.000512  0.009210  0.000081  0.000000  0.000000  0.000000  \n",
      "18721  0.001335  0.000791  0.004025  0.006564  0.000000  0.000000  0.013544  \n",
      "18722  0.000000  0.000000  0.190701  0.000000  0.000000  0.000168  0.000000  \n",
      "18723  0.002938  0.000000  0.000000  0.004712  0.000000  0.000000  0.058290  \n",
      "\n",
      "[18724 rows x 37 columns]\n",
      "(18724, 37)\n"
     ]
    }
   ],
   "source": [
    "# Create a dataframe from the document-topic matrix\n",
    "dfnmf = pd.DataFrame(doc_topic_matrix)\n",
    "\n",
    "# Add a column for the original text data\n",
    "#df[\"Text\"] = bustf + contf\n",
    "\n",
    "# Print the resulting dataframe\n",
    "print(dfnmf)\n",
    "print(dfnmf.shape)\n"
   ]
  },
  {
   "cell_type": "code",
   "execution_count": 23,
   "metadata": {},
   "outputs": [
    {
     "name": "stdout",
     "output_type": "stream",
     "text": [
      "is_entertainment\n",
      "(14979, 37) (14979,)\n",
      "Accuracy: 0.83\n",
      "[[2876  325]\n",
      " [ 296  248]] : is the confusion matrix\n",
      "0.4328097731239092 : is the precision score\n",
      "0.45588235294117646 : is the recall score\n",
      "0.4440465532676812 : is the f1 score\n",
      "is_traffic\n",
      "(14979, 37) (14979,)\n",
      "Accuracy: 0.76\n",
      "[[ 244  443]\n",
      " [ 454 2604]] : is the confusion matrix\n",
      "0.8546110928782409 : is the precision score\n",
      "0.8515369522563767 : is the recall score\n",
      "0.8530712530712531 : is the f1 score\n"
     ]
    },
    {
     "data": {
      "text/plain": [
       "Text(0.5, 1.0, 'Precision Recall Curve for Decision Tree Classifier')"
      ]
     },
     "execution_count": 23,
     "metadata": {},
     "output_type": "execute_result"
    },
    {
     "data": {
      "image/png": "[encoded data removed]",
      "text/plain": [
       "<Figure size 432x288 with 1 Axes>"
      ]
     },
     "metadata": {
      "needs_background": "light"
     },
     "output_type": "display_data"
    }
   ],
   "source": [
    "npr.seed(123)\n",
    "from sklearn.preprocessing import LabelEncoder\n",
    "from sklearn import model_selection, svm\n",
    "from sklearn.metrics import accuracy_score\n",
    "# perform encoding on training and testing dataset to differentiate between different labels and assign them to 0 or 1\n",
    "for j in [0,1]:\n",
    "    print(label[j])\n",
    "    X_train, X_test, y_train, y_test = train_test_split(dfnmf, labeldf[label[j]], test_size=0.2, random_state=42)\n",
    "    print(X_train.shape,y_train.shape)\n",
    "    # create and fit the Naive Bayes model\n",
    "    #nb_model = MultinomialNB()\n",
    "    nb_model = DecisionTreeClassifier()\n",
    "    nb_model.fit(X_train, y_train)\n",
    "\n",
    "    # make predictions on the test data\n",
    "    y_pred = nb_model.predict(X_test)\n",
    "    '''Encoder = LabelEncoder()\n",
    "    y_train_svm = Encoder.fit_transform(y_train)\n",
    "    y_test_svm = Encoder.fit_transform(y_test)\n",
    "    SVM = svm.SVC(C=1.0, kernel = 'linear', degree = 3, gamma = 'auto')\n",
    "    SVM.fit(X_train,y_train_svm)\n",
    "    predictions_SVM = SVM.predict(X_test)\n",
    "    print(\"Accuracy: \", accuracy_score(predictions_SVM, y_test_svm)*100)'''\n",
    "    \n",
    "    '''\n",
    "    param_grid_nb = {\n",
    "    'var_smoothing': np.logspace(0,-9, num=100)\n",
    "    }\n",
    "    nbModel_grid = GridSearchCV(estimator=GaussianNB(), param_grid=param_grid_nb, verbose=1, cv=10, n_jobs=-1)\n",
    "    nbModel_grid.fit(X_train, y_train)\n",
    "    print(nbModel_grid.best_estimator_)\n",
    "    y_pred = nbModel_grid.predict(X_test)'''\n",
    "    # calculate accuracy\n",
    "    #accuracy = (y_pred == y_test).sum() / len(y_test)\n",
    "    \n",
    "    '''from sklearn.model_selection import RepeatedStratifiedKFold\n",
    "    cv_method = RepeatedStratifiedKFold(n_splits=5, \n",
    "                                        n_repeats=3, \n",
    "                                        random_state=999)\n",
    "    from sklearn.preprocessing import PowerTransformer\n",
    "    params_NB = {'var_smoothing': np.logspace(0,-9, num=100)}\n",
    "    gs_NB = GridSearchCV(estimator=nb_model, \n",
    "                         param_grid=params_NB, \n",
    "                         cv=cv_method,\n",
    "                         verbose=1, \n",
    "                         scoring='accuracy')\n",
    "    Data_transformed = PowerTransformer().fit_transform(X_test)\n",
    "    gs_NB.fit(Data_transformed, y_test);\n",
    "    gs_NB.best_params_\n",
    "    gs_NB.best_score_\n",
    "    results_NB = pd.DataFrame(gs_NB.cv_results_['params'])\n",
    "    results_NB['test_score'] = gs_NB.cv_results_['mean_test_score']\n",
    "    # predict the target on the test dataset\n",
    "    predict_test = gs_NB.predict(Data_transformed)\n",
    "    # Accuracy Score on test dataset\n",
    "    accuracy_test = accuracy_score(y_test,predict_test)\n",
    "    print('accuracy_score on test dataset : ', accuracy_test)\n",
    "    \n",
    "    print(confusion_matrix(y_test, predict_test), \": is the confusion matrix\")\n",
    "  \n",
    "    print(precision_score(y_test, predict_test), \": is the precision score\")\n",
    "    print(recall_score(y_test, predict_test), \": is the recall score\")\n",
    "    print(f1_score(y_test, predict_test), \": is the f1 score\")\n",
    "    # Get the misclassified examples\n",
    "    misclassified = X_test[predict_test != y_test]\n",
    "    mis = misclassified.index.tolist()\n",
    "    print(mis)\n",
    "    # Print a few examples of misclassified comments\n",
    "    for x in range(5):\n",
    "        if x < len(mis): # Check if the index is within bounds\n",
    "            predictor = df2[name].iloc[mis[x]]#[name[i]] # Replace 'comment' with the actual column name\n",
    "            actual_label = labeldf[label[i]].iloc[mis[x]]#[label[j]] # Replace 'label' with the actual column name\n",
    "            print(f\"Predictor: {predictor}\")\n",
    "            print(f\"Actual label: {actual_label}\")\n",
    "            print(\"\\n\")\n",
    "        else:\n",
    "            print(\"No more misclassified examples.\")\n",
    "            break\n",
    "    probabilities = gs_NB.predict_proba(np.array(X_test))\n",
    "    predictions = probabilities[:, 1]\n",
    "    fpr, tpr, threshold = roc_curve(y_test, predictions)\n",
    "    roc_auc = auc(fpr, tpr)\n",
    "    plt.title('Receiver Operating Characteristic')\n",
    "    plt.plot(fpr, tpr, 'b', label=label[j]+' AUC = %0.2f' % roc_auc)\n",
    "    plt.legend(loc='lower right')\n",
    "    plt.plot([0, 1], [0, 1], 'r--')\n",
    "    plt.xlim([0, 1])\n",
    "    plt.ylim([0, 1])\n",
    "    plt.ylabel('True Positive Rate')\n",
    "    plt.xlabel('False Positive Rate')\n",
    "plt.show()'''\n",
    "    \n",
    "    accuracy = accuracy_score(y_test, y_pred)\n",
    "    print(f'Accuracy: {accuracy:.2f}')\n",
    "\n",
    "\n",
    "    print(confusion_matrix(y_test, y_pred), \": is the confusion matrix\")\n",
    "\n",
    "\n",
    "    print(precision_score(y_test, y_pred), \": is the precision score\")\n",
    "\n",
    "    print(recall_score(y_test, y_pred), \": is the recall score\")\n",
    "\n",
    "    print(f1_score(y_test, y_pred), \": is the f1 score\")\n",
    "\n",
    "    # # Get the misclassified examples\n",
    "    # misclassified = X_test[y_pred != y_test]\n",
    "    # mis = misclassified.index.tolist()\n",
    "    # print(mis)\n",
    "    # Print a few examples of misclassified comments\n",
    "    # for x in range(5):\n",
    "    #     if x < len(mis): # Check if the index is within bounds\n",
    "    #         predictor = df2[name].iloc[mis[x]]#[name[i]] # Replace 'comment' with the actual column name\n",
    "    #         actual_label = labeldf[label[i]].iloc[mis[x]]#[label[j]] # Replace 'label' with the actual column name\n",
    "    #         print(f\"Predictor: {predictor}\")\n",
    "    #         print(f\"Actual label: {actual_label}\")\n",
    "    #         print(\"\\n\")\n",
    "    #     else:\n",
    "    #         print(\"No more misclassified examples.\")\n",
    "    #         break\n",
    "\n",
    "#     probabilities = nb_model.predict_proba(np.array(X_test))\n",
    "#     predictions = probabilities[:, 1]\n",
    "#     fpr, tpr, threshold = roc_curve(y_test, predictions)\n",
    "#     roc_auc = auc(fpr, tpr)\n",
    "\n",
    "#     plt.title('Receiver Operating Characteristic')\n",
    "#     plt.plot(fpr, tpr, 'b', label=label[j]+' AUC = %0.2f' % roc_auc)\n",
    "#     plt.legend(loc='lower right')\n",
    "#     plt.plot([0, 1], [0, 1], 'r--')\n",
    "#     plt.xlim([0, 1])\n",
    "#     plt.ylim([0, 1])\n",
    "#     plt.ylabel('True Positive Rate')\n",
    "#     plt.xlabel('False Positive Rate')\n",
    "# plt.show()\n",
    "from sklearn.metrics import PrecisionRecallDisplay\n",
    "display = PrecisionRecallDisplay.from_predictions(y_test,y_pred,name=\"DecisionTreeClassifier\")\n",
    "display.ax_.set_title(\"Precision Recall Curve for Decision Tree Classifier\")"
   ]
  },
  {
   "cell_type": "code",
   "execution_count": 19,
   "metadata": {},
   "outputs": [
    {
     "name": "stdout",
     "output_type": "stream",
     "text": [
      "is_entertainment\n",
      "(14979, 1000) (14979,)\n",
      "Fitting 15 folds for each of 50 candidates, totalling 750 fits\n",
      "{'criterion': 'entropy', 'max_depth': 10, 'min_samples_leaf': 20}\n",
      "0.4894002580922795\n",
      "accuracy_score on test dataset :  0.9124165554072096\n",
      "[[3142   59]\n",
      " [ 269  275]] : is the confusion matrix\n",
      "0.8233532934131736 : is the precision score\n",
      "0.5055147058823529 : is the recall score\n",
      "0.6264236902050114 : is the f1 score\n",
      "is_traffic\n",
      "(14979, 1000) (14979,)\n"
     ]
    },
    {
     "name": "stderr",
     "output_type": "stream",
     "text": [
      "c:\\Users\\megal\\anaconda3\\lib\\site-packages\\sklearn\\utils\\deprecation.py:87: FutureWarning: Function plot_precision_recall_curve is deprecated; Function `plot_precision_recall_curve` is deprecated in 1.0 and will be removed in 1.2. Use one of the class methods: PrecisionRecallDisplay.from_predictions or PrecisionRecallDisplay.from_estimator.\n",
      "  warnings.warn(msg, category=FutureWarning)\n"
     ]
    },
    {
     "name": "stdout",
     "output_type": "stream",
     "text": [
      "Fitting 15 folds for each of 50 candidates, totalling 750 fits\n",
      "{'criterion': 'gini', 'max_depth': 2, 'min_samples_leaf': 5}\n",
      "0.900662018289973\n",
      "accuracy_score on test dataset :  0.8283044058744994\n",
      "[[  76  611]\n",
      " [  32 3026]] : is the confusion matrix\n",
      "0.8320043992301347 : is the precision score\n",
      "0.9895356442119032 : is the recall score\n",
      "0.9039581777445855 : is the f1 score\n"
     ]
    },
    {
     "name": "stderr",
     "output_type": "stream",
     "text": [
      "c:\\Users\\megal\\anaconda3\\lib\\site-packages\\sklearn\\utils\\deprecation.py:87: FutureWarning: Function plot_precision_recall_curve is deprecated; Function `plot_precision_recall_curve` is deprecated in 1.0 and will be removed in 1.2. Use one of the class methods: PrecisionRecallDisplay.from_predictions or PrecisionRecallDisplay.from_estimator.\n",
      "  warnings.warn(msg, category=FutureWarning)\n"
     ]
    },
    {
     "data": {
      "image/png": "[encoded data removed]",
      "text/plain": [
       "<Figure size 432x288 with 1 Axes>"
      ]
     },
     "metadata": {
      "needs_background": "light"
     },
     "output_type": "display_data"
    },
    {
     "data": {
      "image/png": "[encoded data removed]",
      "text/plain": [
       "<Figure size 432x288 with 1 Axes>"
      ]
     },
     "metadata": {
      "needs_background": "light"
     },
     "output_type": "display_data"
    }
   ],
   "source": [
    "# with cross validation\n",
    "#nmf with CV\n",
    "#With Cross Validation\n",
    "for j in [0,1]:\n",
    "    print(label[j])\n",
    "    X_train, X_test, y_train, y_test = train_test_split(dfnmf, labeldf[label[j]], test_size=0.2, random_state=42)\n",
    "    print(X_train.shape,y_train.shape)\n",
    "    # create and fit the Naive Bayes model\n",
    "    #nb_model = MultinomialNB()\n",
    "    tree_model = DecisionTreeClassifier()\n",
    "    tree_model.fit(X_train, y_train)\n",
    "\n",
    "    # make predictions on the test data\n",
    "    y_pred = tree_model.predict(X_test)\n",
    "    '''\n",
    "    param_grid_nb = {\n",
    "    'var_smoothing': np.logspace(0,-9, num=100)\n",
    "    }\n",
    "    nbModel_grid = GridSearchCV(estimator=GaussianNB(), param_grid=param_grid_nb, verbose=1, cv=10, n_jobs=-1)\n",
    "    nbModel_grid.fit(X_train, y_train)\n",
    "    print(nbModel_grid.best_estimator_)\n",
    "    y_pred = nbModel_grid.predict(X_test)'''\n",
    "    # calculate accuracy\n",
    "    #accuracy = (y_pred == y_test).sum() / len(y_test)\n",
    "    \n",
    "    from sklearn.model_selection import RepeatedStratifiedKFold\n",
    "\n",
    "    cv_method = RepeatedStratifiedKFold(n_splits=5, \n",
    "                                        n_repeats=3, \n",
    "                                        random_state=999)\n",
    "    from sklearn.preprocessing import PowerTransformer\n",
    "    params_tree = {'max_depth': [2, 3, 5, 10, 20],\n",
    "    'min_samples_leaf': [5, 10, 20, 50, 100],\n",
    "    'criterion': [\"gini\", \"entropy\"]}\n",
    "\n",
    "    gs_tree = GridSearchCV(estimator=tree_model, \n",
    "                         param_grid=params_tree, \n",
    "                         cv=cv_method,\n",
    "                         verbose=1, \n",
    "                         scoring='f1')\n",
    "\n",
    "    Data_transformed = PowerTransformer().fit_transform(X_test)\n",
    "\n",
    "    gs_tree.fit(Data_transformed, y_test)\n",
    "    print(gs_tree.best_params_)\n",
    "    print(gs_tree.best_score_)\n",
    "    results_NB = pd.DataFrame(gs_tree.cv_results_['params'])\n",
    "    results_NB['test_score'] = gs_tree.cv_results_['mean_test_score']\n",
    "    # predict the target on the test dataset\n",
    "    predict_test = gs_tree.predict(Data_transformed)\n",
    "\n",
    "    # Accuracy Score on test dataset\n",
    "    accuracy_test = accuracy_score(y_test,predict_test)\n",
    "    print('accuracy_score on test dataset : ', accuracy_test)\n",
    "    \n",
    "    print(confusion_matrix(y_test, predict_test), \": is the confusion matrix\")\n",
    "  \n",
    "\n",
    "    print(precision_score(y_test, predict_test), \": is the precision score\")\n",
    "\n",
    "    print(recall_score(y_test, predict_test), \": is the recall score\")\n",
    "\n",
    "    print(f1_score(y_test, predict_test), \": is the f1 score\")\n",
    "\n",
    "    # # Get the misclassified examples\n",
    "    # misclassified = X_test[predict_test != y_test]\n",
    "    # mis = misclassified.index.tolist()\n",
    "    # print(mis)\n",
    "    # # Print a few examples of misclassified comments\n",
    "    # for x in range(5):\n",
    "    #     if x < len(mis): # Check if the index is within bounds\n",
    "    #         predictor = df2[name].iloc[mis[x]]#[name[i]] # Replace 'comment' with the actual column name\n",
    "    #         actual_label = labeldf[label[i]].iloc[mis[x]]#[label[j]] # Replace 'label' with the actual column name\n",
    "    #         print(f\"Predictor: {predictor}\")\n",
    "    #         print(f\"Actual label: {actual_label}\")\n",
    "    #         print(\"\\n\")\n",
    "    #     else:\n",
    "    #         print(\"No more misclassified examples.\")\n",
    "    #         break\n",
    "    # roc auc curve\n",
    "#     probabilities = gs_tree.predict_proba(Data_transformed)\n",
    "#     predictions = probabilities[:, 1]\n",
    "#     fpr, tpr, threshold = roc_curve(y_test, predictions)\n",
    "#     roc_auc = auc(fpr, tpr)\n",
    "\n",
    "#     plt.title('Receiver Operating Characteristic')\n",
    "#     plt.plot(fpr, tpr, 'b', label=label[j]+' AUC = %0.2f' % roc_auc)\n",
    "#     plt.legend(loc='lower right')\n",
    "#     plt.plot([0, 1], [0, 1], 'r--')\n",
    "#     plt.xlim([0, 1])\n",
    "#     plt.ylim([0, 1])\n",
    "#     plt.ylabel('True Positive Rate')\n",
    "#     plt.xlabel('False Positive Rate')\n",
    "# plt.show()\n",
    "    \n",
    "    from sklearn.metrics import plot_precision_recall_curve\n",
    "    plot_precision_recall_curve(gs_tree, X_test, y_test, name = 'Decision Tree')"
   ]
  },
  {
   "cell_type": "code",
   "execution_count": null,
   "metadata": {},
   "outputs": [],
   "source": []
  }
 ],
 "metadata": {
  "kernelspec": {
   "display_name": "base",
   "language": "python",
   "name": "python3"
  },
  "language_info": {
   "codemirror_mode": {
    "name": "ipython",
    "version": 3
   },
   "file_extension": ".py",
   "mimetype": "text/x-python",
   "name": "python",
   "nbconvert_exporter": "python",
   "pygments_lexer": "ipython3",
   "version": "3.8.8"
  },
  "orig_nbformat": 4
 },
 "nbformat": 4,
 "nbformat_minor": 2
}
